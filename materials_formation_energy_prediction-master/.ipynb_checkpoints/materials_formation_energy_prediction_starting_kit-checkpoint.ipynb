{
 "cells": [
  {
   "cell_type": "markdown",
   "metadata": {
    "colab_type": "text",
    "id": "EjsXOTRbh21z"
   },
   "source": [
    "# Predicting material formation energy from material composition"
   ]
  },
  {
   "cell_type": "code",
   "execution_count": 1,
   "metadata": {},
   "outputs": [],
   "source": [
    "#!pip install pymatgen\n",
    "#!pip install matminer"
   ]
  },
  {
   "cell_type": "code",
   "execution_count": 2,
   "metadata": {
    "colab": {
     "base_uri": "https://localhost:8080/",
     "height": 34
    },
    "colab_type": "code",
    "id": "Dgbw5nVRiRwV",
    "outputId": "7caeea6f-4875-4fcb-c63b-4d8f7807fd39"
   },
   "outputs": [],
   "source": [
    "#cd materials_formation_energy_prediction/"
   ]
  },
  {
   "cell_type": "markdown",
   "metadata": {
    "colab_type": "text",
    "id": "Ffxbx0sah22X"
   },
   "source": [
    "## Objective"
   ]
  },
  {
   "cell_type": "markdown",
   "metadata": {
    "colab_type": "text",
    "id": "IrKi9Z21h22Z"
   },
   "source": [
    "Although *ab initio* DFT computing of materials provides a principled way of computing energy-related properties of materials it is quite slow (on the order of weeks). Instead, machine learning methods can provide predictions on the order of miliseconds to seconds. Therefore, in a context of high throughput computing, a sufficiently good predictor can be used initially to screen the chemical space to focus the search on materials that are likely possess desirable properties - therefore accelerating the overall search for a new material.  \n",
    "\n",
    "In this RAMP, we are going to predict the [formation enthalpy](https://en.wikipedia.org/wiki/Standard_enthalpy_of_formation) $\\Delta{H}_f$, based previously computed $\\Delta{H}_f^j$ for a known set of compunds $C^j$. \n",
    "\n",
    "Note that $\\Delta{H}_f$ is a continuous quantity, thus, this is a regression problem. Following (ref elemnet), we will be using [Mean Absolute Error](https://en.wikipedia.org/wiki/Mean_absolute_error) as the objective function:\n",
    "$$\\text{MAE} = \\frac{1}{n}\\sum_{t=1}^{n}|\\Delta{H}_f - \\hat{\\Delta{H}_f}| = \\frac{1}{n}\\sum_{k=1}^{n}\\left|{y-\\hat{y}}\\right|$$\n",
    "\n",
    "\n",
    "\n",
    "where:\n",
    "\n",
    "- $y$ is the true formation energy\n",
    "- $\\hat{y}$ is the predicted formation energy\n",
    "- $n$ is the number of examples.\n",
    "\n",
    "\n"
   ]
  },
  {
   "cell_type": "markdown",
   "metadata": {
    "colab_type": "text",
    "id": "uWmRpGs8h22b"
   },
   "source": [
    "Note that predicting formation enthalpies of compounds whose formation enthalpies have already been computed by *ab initio* methods are of limited use, except the speed improvement for screening purposes. The regressor would be much more useful if it can accurately predict the energies of compounds never before seen during training. This is, however, more likely to have larger errors in prediction.\n",
    "\n",
    "In order to estimate the ability of the model predict the energies of compounds such new seen, we shall test your model on combinations of molecules never seen in the training, using the following scheme:\n",
    "\n",
    "- for each pair (atom1, atom2) of atoms:\n",
    "\n",
    "    - train the model on examples (compounds) which contain atom1 only, or atom2 only, or none of them\n",
    "    - test the model on examples (compounds) which contain both atom1 and atom2\n",
    "\n",
    "You will be tested on the following 10 pairs of atoms:\n",
    "\n",
    "```\n",
    "    (\"Li\", \"O\"),\n",
    "    (\"Cu\", \"Zn\"),\n",
    "    (\"Cr\", \"Zn\"),\n",
    "    (\"Co\", \"Zn\"),\n",
    "    (\"Cu\", \"Ge\"),\n",
    "    (\"Cu\", \"Si\"),\n",
    "    (\"Al\", \"Cu\"),\n",
    "    (\"Cu\", \"Mg\"),\n",
    "    (\"Fe\", \"O\"),\n",
    "    (\"Fe\", \"Zn\"),\n",
    "```\n",
    "\n",
    "Each pair (atom1, atom2) will provide an $\\text{MAE}$ test score on the leaderboard.\n",
    "Thus, a total of 10 scores will be displayed on the leaderboard.\n",
    "\n",
    "The overall score will be the average of those 10 scores. Your goal will be to minimize that overall score, but pay close attention to errors from each binary system - since it might give you insights about what type of atom combinations increase your overall errors. This, in turn, is potentially useful to engineer features that will hopefully help your predictor to reduce that error. You might want to use the excellent *[MatMiner](https://hackingmaterials.github.io/matminer/featurizer_summary.html)* package to either use existing features, or to build new ones."
   ]
  },
  {
   "cell_type": "markdown",
   "metadata": {
    "colab_type": "text",
    "id": "P9w6zZ3gh22d"
   },
   "source": [
    "## Working with RAMP"
   ]
  },
  {
   "cell_type": "markdown",
   "metadata": {
    "colab_type": "text",
    "id": "Lhqnrkp_h22d"
   },
   "source": [
    "Working with RAMP involves two intertwined steps. You can use this starting kit and [Colab](https://colab.research.google.com) to freely explore and study. Once you think you have a model worth submitting, you can submit it to [RAMP](http://35.237.30.43/events/materials_formation_energy_prediction_mines_2019/sandbox) under the event \"Material formation energy prediction\"\n",
    "\n",
    "You will be provided instructions Once you find a good model, you can submit it to the RAMP.\n",
    "\n",
    "**For Colab**\n",
    "Colab is a work environment provideded by Google Research. You can upload a Notebook (such as this one) and data, and start working. Note that Colab is not for large computation and extended work sessions. When you execute a model, if it takes more than a day, the computation might be stopped by Google on short notice (risk of loosing intermediate results). Thus, the best way to work with Colab for this RAMP is to simply test your ideas with a sufficient (but not very large) subset of data - to get quick feedback on your idea and also to make sure your code is flawless (and will not crash RAMP server).\n",
    "\n",
    "**For RAMP:**\n",
    "\n",
    "1) Go to http://35.237.30.43/events/materials_formation_energy_prediction_mines_2019/sandbox\n",
    "(Sign up if necessary, it might take a moment before we validate your registration)\n",
    "\n",
    "2) Copy the feature extractor cell (from this notebook) and paste it on the web site\n",
    "\n",
    "3) Copy the regressor cell (from this notebook) and paste it on the web site\n",
    "\n",
    "4) Click \"Save\"\n",
    "\n",
    "5) Choose a name for the submission\n",
    "\n",
    "6) Click \"Submit\"\n",
    "\n",
    "7) Optionally assign credits (they must sum up to 100)\n",
    "\n",
    "8) Wait for the training to finish (check the leaderboard)\n",
    "\n",
    "Note that training *will* take time. It is normal that you will not see your model on the leaderboard immediately. The best thing to do while a model is training is to... prepare your next model."
   ]
  },
  {
   "cell_type": "markdown",
   "metadata": {
    "colab_type": "text",
    "id": "Zn7eDpGyh22g"
   },
   "source": [
    "## Data"
   ]
  },
  {
   "cell_type": "markdown",
   "metadata": {
    "colab_type": "text",
    "id": "Ay5T2tgOh22i"
   },
   "source": [
    "In this RAMP, we shall use data from [OQMD](http://oqmd.org/) where DFT outputs has been precomputed for several tens of thousands of compounds. Let us start by importing a few libraries and utilities we shall use for exploring the data."
   ]
  },
  {
   "cell_type": "code",
   "execution_count": 5,
   "metadata": {
    "colab": {},
    "colab_type": "code",
    "id": "RL2lrrgVh22l"
   },
   "outputs": [],
   "source": [
    "%matplotlib inline\n",
    "from collections import defaultdict\n",
    "from itertools import combinations\n",
    "import matplotlib.pyplot as plt\n",
    "import seaborn as sns\n",
    "from sklearn.manifold import TSNE\n",
    "import numpy as np\n",
    "import pandas as pd\n",
    "import pymatgen as mg\n",
    "from matminer.featurizers.composition import ElementProperty\n",
    "from sklearn.model_selection import cross_val_score\n",
    "sns.set(style='darkgrid')"
   ]
  },
  {
   "cell_type": "code",
   "execution_count": 2,
   "metadata": {
    "colab": {},
    "colab_type": "code",
    "id": "weSWC1mzh22w"
   },
   "outputs": [],
   "source": [
    "df = pd.read_csv(\"data/train.csv\")"
   ]
  },
  {
   "cell_type": "code",
   "execution_count": 5,
   "metadata": {
    "colab": {
     "base_uri": "https://localhost:8080/",
     "height": 206
    },
    "colab_type": "code",
    "id": "6QrAjqTbh223",
    "outputId": "f6209168-5854-4b4a-bb5f-8c0d1071f89f"
   },
   "outputs": [
    {
     "data": {
      "text/html": [
       "<div>\n",
       "<style scoped>\n",
       "    .dataframe tbody tr th:only-of-type {\n",
       "        vertical-align: middle;\n",
       "    }\n",
       "\n",
       "    .dataframe tbody tr th {\n",
       "        vertical-align: top;\n",
       "    }\n",
       "\n",
       "    .dataframe thead th {\n",
       "        text-align: right;\n",
       "    }\n",
       "</style>\n",
       "<table border=\"1\" class=\"dataframe\">\n",
       "  <thead>\n",
       "    <tr style=\"text-align: right;\">\n",
       "      <th></th>\n",
       "      <th>formula</th>\n",
       "      <th>formation_energy_per_atom</th>\n",
       "    </tr>\n",
       "  </thead>\n",
       "  <tbody>\n",
       "    <tr>\n",
       "      <th>0</th>\n",
       "      <td>Tb0.250000Er0.250000Np0.500000</td>\n",
       "      <td>0.863476</td>\n",
       "    </tr>\n",
       "    <tr>\n",
       "      <th>1</th>\n",
       "      <td>Zr0.250000Ag0.250000Re0.500000</td>\n",
       "      <td>0.670903</td>\n",
       "    </tr>\n",
       "    <tr>\n",
       "      <th>2</th>\n",
       "      <td>Mo0.250000Ba0.250000Th0.500000</td>\n",
       "      <td>0.701847</td>\n",
       "    </tr>\n",
       "    <tr>\n",
       "      <th>3</th>\n",
       "      <td>Sn0.250000Os0.250000Pa0.500000</td>\n",
       "      <td>0.057070</td>\n",
       "    </tr>\n",
       "    <tr>\n",
       "      <th>4</th>\n",
       "      <td>Li0.125000Fe0.125000Cu0.500000In0.250000</td>\n",
       "      <td>0.023933</td>\n",
       "    </tr>\n",
       "  </tbody>\n",
       "</table>\n",
       "</div>"
      ],
      "text/plain": [
       "                                    formula  formation_energy_per_atom\n",
       "0            Tb0.250000Er0.250000Np0.500000                   0.863476\n",
       "1            Zr0.250000Ag0.250000Re0.500000                   0.670903\n",
       "2            Mo0.250000Ba0.250000Th0.500000                   0.701847\n",
       "3            Sn0.250000Os0.250000Pa0.500000                   0.057070\n",
       "4  Li0.125000Fe0.125000Cu0.500000In0.250000                   0.023933"
      ]
     },
     "execution_count": 5,
     "metadata": {},
     "output_type": "execute_result"
    }
   ],
   "source": [
    "df.head()"
   ]
  },
  {
   "cell_type": "markdown",
   "metadata": {
    "colab_type": "text",
    "id": "keBzmiWfh23B"
   },
   "source": [
    "## Basic properties of a molecule"
   ]
  },
  {
   "cell_type": "markdown",
   "metadata": {
    "colab_type": "text",
    "id": "YSUmlFErh23K"
   },
   "source": [
    "The packages [pymatgen](http://pymatgen.org/) and [matminer](https://hackingmaterials.github.io/matminer/) give you several methods to manipulate molecules and atoms."
   ]
  },
  {
   "cell_type": "code",
   "execution_count": 63,
   "metadata": {
    "colab": {
     "base_uri": "https://localhost:8080/",
     "height": 86
    },
    "colab_type": "code",
    "id": "NA0zxk1Nh23M",
    "outputId": "7320c83a-618f-4908-8166-06d41386b574"
   },
   "outputs": [
    {
     "name": "stdout",
     "output_type": "stream",
     "text": [
      "0.25 0.5 0.25\n",
      "1.6549999999999998\n",
      "1.0\n",
      "35.25\n",
      "81.61421250000001 amu\n"
     ]
    }
   ],
   "source": [
    "comp = mg.Composition(\"Si0.250000Ga0.500000Tb0.250000\")\n",
    "print(comp[\"Si\"], comp[\"Ga\"], comp[\"Tb\"])\n",
    "\n",
    "print(comp.average_electroneg)\n",
    "print(comp.num_atoms)\n",
    "print(comp.total_electrons)\n",
    "print(comp.weight)"
   ]
  },
  {
   "cell_type": "code",
   "execution_count": 70,
   "metadata": {},
   "outputs": [],
   "source": [
    "#######################\n",
    "### adding feature ####\n",
    "#######################\n",
    "\n",
    "df['average_electroneg'] = df.formula.apply(lambda x: mg.Composition(x).average_electroneg)\n",
    "df['num_atoms'] = df.formula.apply(lambda x: mg.Composition(x).num_atoms)\n",
    "df['total_electrons'] = df.formula.apply(lambda x: mg.Composition(x).total_electrons)\n",
    "df['weight'] = df.formula.apply(lambda x: mg.Composition(x).weight)"
   ]
  },
  {
   "cell_type": "markdown",
   "metadata": {
    "colab_type": "text",
    "id": "2LGPk-ITh23T"
   },
   "source": [
    "### Frequency of atoms"
   ]
  },
  {
   "cell_type": "code",
   "execution_count": 7,
   "metadata": {
    "colab": {},
    "colab_type": "code",
    "id": "DnJFppsvh23X"
   },
   "outputs": [],
   "source": [
    "compositions = df.formula.apply(mg.Composition).values"
   ]
  },
  {
   "cell_type": "code",
   "execution_count": 8,
   "metadata": {
    "colab": {
     "base_uri": "https://localhost:8080/",
     "height": 1511
    },
    "colab_type": "code",
    "id": "z6XhNdjVh23c",
    "outputId": "b1405ac2-de0f-460f-ffb4-a37ef3cc0293"
   },
   "outputs": [
    {
     "data": {
      "text/plain": [
       "{'Ac',\n",
       " 'Ag',\n",
       " 'Al',\n",
       " 'As',\n",
       " 'Au',\n",
       " 'B',\n",
       " 'Ba',\n",
       " 'Be',\n",
       " 'Bi',\n",
       " 'Br',\n",
       " 'C',\n",
       " 'Ca',\n",
       " 'Cd',\n",
       " 'Ce',\n",
       " 'Cl',\n",
       " 'Co',\n",
       " 'Cr',\n",
       " 'Cs',\n",
       " 'Cu',\n",
       " 'Dy',\n",
       " 'Er',\n",
       " 'Eu',\n",
       " 'F',\n",
       " 'Fe',\n",
       " 'Ga',\n",
       " 'Gd',\n",
       " 'Ge',\n",
       " 'H',\n",
       " 'Hf',\n",
       " 'Hg',\n",
       " 'Ho',\n",
       " 'I',\n",
       " 'In',\n",
       " 'Ir',\n",
       " 'K',\n",
       " 'Kr',\n",
       " 'La',\n",
       " 'Li',\n",
       " 'Lu',\n",
       " 'Mg',\n",
       " 'Mn',\n",
       " 'Mo',\n",
       " 'N',\n",
       " 'Na',\n",
       " 'Nb',\n",
       " 'Nd',\n",
       " 'Ni',\n",
       " 'Np',\n",
       " 'O',\n",
       " 'Os',\n",
       " 'P',\n",
       " 'Pa',\n",
       " 'Pb',\n",
       " 'Pd',\n",
       " 'Pm',\n",
       " 'Pr',\n",
       " 'Pt',\n",
       " 'Pu',\n",
       " 'Rb',\n",
       " 'Re',\n",
       " 'Rh',\n",
       " 'Ru',\n",
       " 'S',\n",
       " 'Sb',\n",
       " 'Sc',\n",
       " 'Se',\n",
       " 'Si',\n",
       " 'Sm',\n",
       " 'Sn',\n",
       " 'Sr',\n",
       " 'Ta',\n",
       " 'Tb',\n",
       " 'Tc',\n",
       " 'Te',\n",
       " 'Th',\n",
       " 'Ti',\n",
       " 'Tl',\n",
       " 'Tm',\n",
       " 'U',\n",
       " 'V',\n",
       " 'W',\n",
       " 'Xe',\n",
       " 'Y',\n",
       " 'Yb',\n",
       " 'Zn',\n",
       " 'Zr'}"
      ]
     },
     "execution_count": 8,
     "metadata": {},
     "output_type": "execute_result"
    }
   ],
   "source": [
    "atoms_unique = set(str(atom) for comp in compositions for atom in comp.keys())\n",
    "atoms_unique"
   ]
  },
  {
   "cell_type": "code",
   "execution_count": 9,
   "metadata": {
    "colab": {
     "base_uri": "https://localhost:8080/",
     "height": 34
    },
    "colab_type": "code",
    "id": "DO6fJ4Byh23l",
    "outputId": "f73509a4-f5e0-4075-9c0c-3d4316f397ad"
   },
   "outputs": [
    {
     "data": {
      "text/plain": [
       "86"
      ]
     },
     "execution_count": 9,
     "metadata": {},
     "output_type": "execute_result"
    }
   ],
   "source": [
    "len(atoms_unique)"
   ]
  },
  {
   "cell_type": "code",
   "execution_count": 10,
   "metadata": {
    "colab": {},
    "colab_type": "code",
    "id": "QI27JGqgh23u"
   },
   "outputs": [],
   "source": [
    "atom_count = defaultdict(int)\n",
    "for comp in compositions:\n",
    "    for atom in comp.keys():\n",
    "        atom_count[str(atom)] += 1\n",
    "atom_count = pd.Series(atom_count)\n",
    "atom_count = atom_count.sort_values(ascending=True)"
   ]
  },
  {
   "cell_type": "code",
   "execution_count": 11,
   "metadata": {
    "colab": {
     "base_uri": "https://localhost:8080/",
     "height": 555
    },
    "colab_type": "code",
    "id": "LQLxbp8oh23y",
    "outputId": "9f6ae2ce-81a6-4854-98ee-4090bf3643e4"
   },
   "outputs": [
    {
     "data": {
      "text/plain": [
       "Kr       2\n",
       "Xe       7\n",
       "I      174\n",
       "Br     184\n",
       "Se     321\n",
       "Cl     327\n",
       "F      335\n",
       "C      344\n",
       "N      393\n",
       "P      396\n",
       "H      439\n",
       "S      513\n",
       "Np    1420\n",
       "Pu    1433\n",
       "Ac    1468\n",
       "Pm    1471\n",
       "Yb    1484\n",
       "Tm    1488\n",
       "U     1490\n",
       "Pa    1490\n",
       "Th    1527\n",
       "Tb    1532\n",
       "Rb    1551\n",
       "Er    1565\n",
       "Gd    1567\n",
       "Cs    1571\n",
       "Sm    1584\n",
       "Pr    1584\n",
       "Nd    1586\n",
       "Ce    1587\n",
       "dtype: int64"
      ]
     },
     "execution_count": 11,
     "metadata": {},
     "output_type": "execute_result"
    }
   ],
   "source": [
    "atom_count.head(30)"
   ]
  },
  {
   "cell_type": "code",
   "execution_count": 12,
   "metadata": {
    "colab": {},
    "colab_type": "code",
    "id": "j-8ojV1Xh23-",
    "outputId": "afaa9682-488d-4754-d95b-db757dfd9a0d"
   },
   "outputs": [
    {
     "data": {
      "text/plain": [
       "Text(0, 0.5, 'atom')"
      ]
     },
     "execution_count": 12,
     "metadata": {},
     "output_type": "execute_result"
    },
    {
     "data": {
      "image/png": "[encoded data removed]",
      "text/plain": [
       "<Figure size 720x1440 with 1 Axes>"
      ]
     },
     "metadata": {
      "needs_background": "light"
     },
     "output_type": "display_data"
    }
   ],
   "source": [
    "fig = plt.figure(figsize=(10, 20))\n",
    "atom_count.plot(kind=\"barh\", color=\"pink\")\n",
    "plt.xlabel(\"freq\")\n",
    "plt.ylabel(\"atom\")"
   ]
  },
  {
   "cell_type": "code",
   "execution_count": 13,
   "metadata": {
    "colab": {},
    "colab_type": "code",
    "id": "g2cu3l2qh24M"
   },
   "outputs": [],
   "source": [
    "atom_pairs_count = defaultdict(int)\n",
    "for comp in compositions:\n",
    "    for atom1, atom2 in combinations(comp.keys(), 2):\n",
    "        atom1 = str(atom1)\n",
    "        atom2 = str(atom2)\n",
    "        if atom1 > atom2:\n",
    "            atom2, atom1 = atom1, atom2\n",
    "        atom_pairs_count[(atom1, atom2)] += 1\n",
    "atom_pairs_count = pd.Series(atom_pairs_count)\n",
    "atom_pairs_count = atom_pairs_count.sort_values(ascending=True)"
   ]
  },
  {
   "cell_type": "code",
   "execution_count": 14,
   "metadata": {
    "colab": {},
    "colab_type": "code",
    "id": "ZCtNV7oFh24Z",
    "outputId": "b62d4456-f745-4339-e044-2aab912d8ed1"
   },
   "outputs": [
    {
     "data": {
      "text/plain": [
       "I   Lu      1\n",
       "    Tb      1\n",
       "Np  P       1\n",
       "Br  Ca      1\n",
       "Ho  N       1\n",
       "H   Ta      1\n",
       "Co  I       1\n",
       "H   Re      1\n",
       "Lu  N       1\n",
       "Br  I       1\n",
       "H   Xe      1\n",
       "I   Mn      1\n",
       "Er  H       1\n",
       "F   Re      1\n",
       "I   Pu      1\n",
       "    Sc      1\n",
       "H   Lu      1\n",
       "Br  Pu      1\n",
       "    Y       1\n",
       "C   Th      1\n",
       "Ac  I       1\n",
       "P   Tb      1\n",
       "Eu  N       1\n",
       "Br  Ti      1\n",
       "H   Np      1\n",
       "I   Re      1\n",
       "Br  Pt      1\n",
       "Bi  N       1\n",
       "N   Yb      1\n",
       "Bi  H       1\n",
       "         ... \n",
       "Co  Ga    145\n",
       "O   P     145\n",
       "Co  Cu    146\n",
       "Fe  Zn    146\n",
       "Al  Cr    146\n",
       "Cu  Si    147\n",
       "As  Co    150\n",
       "Cu  In    151\n",
       "K   O     152\n",
       "O   Sr    153\n",
       "Fe  O     154\n",
       "Mn  O     155\n",
       "B   Cu    155\n",
       "Cu  Ge    156\n",
       "    Fe    157\n",
       "    Ga    158\n",
       "B   Co    160\n",
       "    Ni    163\n",
       "Cu  O     166\n",
       "    Sn    166\n",
       "    Mg    167\n",
       "Al  Cu    170\n",
       "As  Cu    179\n",
       "Na  O     192\n",
       "Co  Zn    198\n",
       "Cr  Zn    209\n",
       "Ba  O     218\n",
       "Cu  Zn    235\n",
       "H   O     243\n",
       "Li  O     361\n",
       "Length: 3453, dtype: int64"
      ]
     },
     "execution_count": 14,
     "metadata": {},
     "output_type": "execute_result"
    }
   ],
   "source": [
    "atom_pairs_count"
   ]
  },
  {
   "cell_type": "code",
   "execution_count": 15,
   "metadata": {
    "colab": {},
    "colab_type": "code",
    "id": "pzA1S7Anh24h",
    "outputId": "9c621498-7eca-4151-e04f-efd16fc7c8a4"
   },
   "outputs": [
    {
     "data": {
      "text/plain": [
       "Text(0, 0.5, 'atom pairs')"
      ]
     },
     "execution_count": 15,
     "metadata": {},
     "output_type": "execute_result"
    },
    {
     "data": {
      "image/png": "[encoded data removed]",
      "text/plain": [
       "<Figure size 720x1440 with 1 Axes>"
      ]
     },
     "metadata": {
      "needs_background": "light"
     },
     "output_type": "display_data"
    }
   ],
   "source": [
    "fig = plt.figure(figsize=(10, 20))\n",
    "atom_pairs_count.tail(100).plot(kind=\"barh\", color=\"pink\")\n",
    "plt.xlabel(\"freq\")\n",
    "plt.ylabel(\"atom pairs\")"
   ]
  },
  {
   "cell_type": "markdown",
   "metadata": {
    "colab_type": "text",
    "id": "GaBbKJFOh24o"
   },
   "source": [
    "\n",
    "### Formation Energy Stats\n"
   ]
  },
  {
   "cell_type": "code",
   "execution_count": 16,
   "metadata": {
    "colab": {},
    "colab_type": "code",
    "id": "vZCxt2uAh24r",
    "outputId": "8d4094fb-78a3-4377-b91a-17dec473d54d"
   },
   "outputs": [
    {
     "data": {
      "text/plain": [
       "count    46192.000000\n",
       "mean         0.000995\n",
       "std          0.830406\n",
       "min         -4.166337\n",
       "25%         -0.246236\n",
       "50%          0.109205\n",
       "75%          0.440344\n",
       "max          3.445851\n",
       "Name: formation_energy_per_atom, dtype: float64"
      ]
     },
     "execution_count": 16,
     "metadata": {},
     "output_type": "execute_result"
    }
   ],
   "source": [
    "df.formation_energy_per_atom.describe()"
   ]
  },
  {
   "cell_type": "code",
   "execution_count": 17,
   "metadata": {
    "colab": {},
    "colab_type": "code",
    "id": "oogn_CgYh24x",
    "outputId": "5fa613ed-725c-493d-a6f4-26c4c2ecd7da"
   },
   "outputs": [
    {
     "name": "stderr",
     "output_type": "stream",
     "text": [
      "C:\\Users\\Louis\\Anaconda3\\lib\\site-packages\\matplotlib\\cbook\\__init__.py:424: MatplotlibDeprecationWarning:\n",
      "\n",
      "\n",
      "Passing one of 'on', 'true', 'off', 'false' as a boolean is deprecated; use an actual boolean (True/False) instead.\n",
      "\n"
     ]
    },
    {
     "data": {
      "image/png": "[encoded data removed]",
      "text/plain": [
       "<Figure size 432x288 with 1 Axes>"
      ]
     },
     "metadata": {
      "needs_background": "light"
     },
     "output_type": "display_data"
    }
   ],
   "source": [
    "df.formation_energy_per_atom.hist(color=\"pink\", edgecolor=\"black\")\n",
    "plt.grid(\"off\")"
   ]
  },
  {
   "cell_type": "code",
   "execution_count": 6,
   "metadata": {
    "colab": {},
    "colab_type": "code",
    "id": "vUUGKIIvh247",
    "outputId": "fc98c226-349b-42ee-cdc7-8dc315b0ffe0"
   },
   "outputs": [
    {
     "ename": "NameError",
     "evalue": "name 'compositions' is not defined",
     "output_type": "error",
     "traceback": [
      "\u001b[1;31m---------------------------------------------------------------------------\u001b[0m",
      "\u001b[1;31mNameError\u001b[0m                                 Traceback (most recent call last)",
      "\u001b[1;32m<ipython-input-6-55903aa3f6c7>\u001b[0m in \u001b[0;36m<module>\u001b[1;34m\u001b[0m\n\u001b[0;32m      1\u001b[0m \u001b[0mfeature_calculators\u001b[0m \u001b[1;33m=\u001b[0m \u001b[0mElementProperty\u001b[0m\u001b[1;33m.\u001b[0m\u001b[0mfrom_preset\u001b[0m\u001b[1;33m(\u001b[0m\u001b[1;34m\"magpie\"\u001b[0m\u001b[1;33m)\u001b[0m\u001b[1;33m\u001b[0m\u001b[1;33m\u001b[0m\u001b[0m\n\u001b[0;32m      2\u001b[0m \u001b[0mnb\u001b[0m\u001b[1;33m=\u001b[0m\u001b[1;36m5000\u001b[0m\u001b[1;33m\u001b[0m\u001b[1;33m\u001b[0m\u001b[0m\n\u001b[1;32m----> 3\u001b[1;33m \u001b[0mX\u001b[0m \u001b[1;33m=\u001b[0m \u001b[0mfeature_calculators\u001b[0m\u001b[1;33m.\u001b[0m\u001b[0mtransform\u001b[0m\u001b[1;33m(\u001b[0m\u001b[0mcompositions\u001b[0m\u001b[1;33m[\u001b[0m\u001b[1;36m0\u001b[0m\u001b[1;33m:\u001b[0m\u001b[0mnb\u001b[0m\u001b[1;33m]\u001b[0m\u001b[1;33m)\u001b[0m\u001b[1;33m\u001b[0m\u001b[1;33m\u001b[0m\u001b[0m\n\u001b[0m\u001b[0;32m      4\u001b[0m \u001b[0mX\u001b[0m \u001b[1;33m=\u001b[0m \u001b[0mnp\u001b[0m\u001b[1;33m.\u001b[0m\u001b[0marray\u001b[0m\u001b[1;33m(\u001b[0m\u001b[0mX\u001b[0m\u001b[1;33m)\u001b[0m\u001b[1;33m\u001b[0m\u001b[1;33m\u001b[0m\u001b[0m\n\u001b[0;32m      5\u001b[0m \u001b[0mX\u001b[0m \u001b[1;33m=\u001b[0m \u001b[1;33m(\u001b[0m\u001b[0mX\u001b[0m \u001b[1;33m-\u001b[0m \u001b[0mX\u001b[0m\u001b[1;33m.\u001b[0m\u001b[0mmean\u001b[0m\u001b[1;33m(\u001b[0m\u001b[0maxis\u001b[0m\u001b[1;33m=\u001b[0m\u001b[1;36m0\u001b[0m\u001b[1;33m,\u001b[0m \u001b[0mkeepdims\u001b[0m\u001b[1;33m=\u001b[0m\u001b[1;32mTrue\u001b[0m\u001b[1;33m)\u001b[0m\u001b[1;33m)\u001b[0m \u001b[1;33m/\u001b[0m \u001b[1;33m(\u001b[0m\u001b[0mX\u001b[0m\u001b[1;33m.\u001b[0m\u001b[0mstd\u001b[0m\u001b[1;33m(\u001b[0m\u001b[0maxis\u001b[0m\u001b[1;33m=\u001b[0m\u001b[1;36m0\u001b[0m\u001b[1;33m,\u001b[0m \u001b[0mkeepdims\u001b[0m\u001b[1;33m=\u001b[0m\u001b[1;32mTrue\u001b[0m\u001b[1;33m)\u001b[0m\u001b[1;33m)\u001b[0m\u001b[1;33m\u001b[0m\u001b[1;33m\u001b[0m\u001b[0m\n",
      "\u001b[1;31mNameError\u001b[0m: name 'compositions' is not defined"
     ]
    }
   ],
   "source": [
    "feature_calculators = ElementProperty.from_preset(\"magpie\")                 \n",
    "nb=5000\n",
    "X = feature_calculators.transform(compositions[0:nb])\n",
    "X = np.array(X)\n",
    "X = (X - X.mean(axis=0, keepdims=True)) / (X.std(axis=0, keepdims=True))\n",
    "sne = TSNE()\n",
    "u = sne.fit_transform(X)\n",
    "fig = plt.figure(figsize=(20, 8))\n",
    "plt.scatter(u[:,0], u[:,1], c=df.formation_energy_per_atom.values[0:nb], s=60)\n",
    "plt.colorbar()\n",
    "plt.show()"
   ]
  },
  {
   "cell_type": "code",
   "execution_count": 19,
   "metadata": {
    "colab": {},
    "colab_type": "code",
    "id": "cp6_hZaeh25G",
    "outputId": "ff243e7f-4ac8-4bf2-86e2-97f2ea073f58"
   },
   "outputs": [
    {
     "data": {
      "text/html": [
       "<div>\n",
       "<style scoped>\n",
       "    .dataframe tbody tr th:only-of-type {\n",
       "        vertical-align: middle;\n",
       "    }\n",
       "\n",
       "    .dataframe tbody tr th {\n",
       "        vertical-align: top;\n",
       "    }\n",
       "\n",
       "    .dataframe thead th {\n",
       "        text-align: right;\n",
       "    }\n",
       "</style>\n",
       "<table border=\"1\" class=\"dataframe\">\n",
       "  <thead>\n",
       "    <tr style=\"text-align: right;\">\n",
       "      <th></th>\n",
       "      <th>formula</th>\n",
       "      <th>formation_energy_per_atom</th>\n",
       "    </tr>\n",
       "  </thead>\n",
       "  <tbody>\n",
       "    <tr>\n",
       "      <th>25638</th>\n",
       "      <td>F0.800000Zr0.133300Th0.066700</td>\n",
       "      <td>-4.166337</td>\n",
       "    </tr>\n",
       "    <tr>\n",
       "      <th>3366</th>\n",
       "      <td>F0.750000Gd0.250000</td>\n",
       "      <td>-4.159631</td>\n",
       "    </tr>\n",
       "    <tr>\n",
       "      <th>549</th>\n",
       "      <td>F0.750000Zr0.125000Ba0.125000</td>\n",
       "      <td>-4.127671</td>\n",
       "    </tr>\n",
       "    <tr>\n",
       "      <th>40282</th>\n",
       "      <td>F0.789500Zr0.157900Pr0.052600</td>\n",
       "      <td>-4.097994</td>\n",
       "    </tr>\n",
       "    <tr>\n",
       "      <th>26621</th>\n",
       "      <td>F0.800000Hf0.200000</td>\n",
       "      <td>-4.097208</td>\n",
       "    </tr>\n",
       "    <tr>\n",
       "      <th>1575</th>\n",
       "      <td>F0.750000Lu0.250000</td>\n",
       "      <td>-4.085041</td>\n",
       "    </tr>\n",
       "    <tr>\n",
       "      <th>5049</th>\n",
       "      <td>O0.600000Sc0.200000Gd0.200000</td>\n",
       "      <td>-4.073482</td>\n",
       "    </tr>\n",
       "    <tr>\n",
       "      <th>43036</th>\n",
       "      <td>O0.333300F0.333300Sc0.333300</td>\n",
       "      <td>-4.052074</td>\n",
       "    </tr>\n",
       "    <tr>\n",
       "      <th>28386</th>\n",
       "      <td>O0.600000La0.200000Er0.200000</td>\n",
       "      <td>-4.028230</td>\n",
       "    </tr>\n",
       "    <tr>\n",
       "      <th>34722</th>\n",
       "      <td>O0.600000La0.200000Ho0.200000</td>\n",
       "      <td>-3.982404</td>\n",
       "    </tr>\n",
       "    <tr>\n",
       "      <th>8814</th>\n",
       "      <td>O0.333300F0.333300Tb0.333300</td>\n",
       "      <td>-3.970837</td>\n",
       "    </tr>\n",
       "    <tr>\n",
       "      <th>18184</th>\n",
       "      <td>O0.600000Nd0.200000Hf0.200000</td>\n",
       "      <td>-3.969802</td>\n",
       "    </tr>\n",
       "    <tr>\n",
       "      <th>2106</th>\n",
       "      <td>F0.666700Mg0.179500Ba0.153800</td>\n",
       "      <td>-3.959293</td>\n",
       "    </tr>\n",
       "    <tr>\n",
       "      <th>34876</th>\n",
       "      <td>O0.600000Tm0.400000</td>\n",
       "      <td>-3.935757</td>\n",
       "    </tr>\n",
       "    <tr>\n",
       "      <th>3338</th>\n",
       "      <td>Be0.166700F0.666700Yb0.166700</td>\n",
       "      <td>-3.935376</td>\n",
       "    </tr>\n",
       "    <tr>\n",
       "      <th>12044</th>\n",
       "      <td>O0.600000Ti0.200000Gd0.200000</td>\n",
       "      <td>-3.932047</td>\n",
       "    </tr>\n",
       "    <tr>\n",
       "      <th>9381</th>\n",
       "      <td>O0.600000Nd0.200000Tm0.200000</td>\n",
       "      <td>-3.925135</td>\n",
       "    </tr>\n",
       "    <tr>\n",
       "      <th>37610</th>\n",
       "      <td>O0.600000Y0.200000La0.200000</td>\n",
       "      <td>-3.913190</td>\n",
       "    </tr>\n",
       "    <tr>\n",
       "      <th>26044</th>\n",
       "      <td>F0.750000Pu0.250000</td>\n",
       "      <td>-3.904193</td>\n",
       "    </tr>\n",
       "    <tr>\n",
       "      <th>16470</th>\n",
       "      <td>O0.600000Eu0.200000Pu0.200000</td>\n",
       "      <td>-3.895097</td>\n",
       "    </tr>\n",
       "  </tbody>\n",
       "</table>\n",
       "</div>"
      ],
      "text/plain": [
       "                             formula  formation_energy_per_atom\n",
       "25638  F0.800000Zr0.133300Th0.066700                  -4.166337\n",
       "3366             F0.750000Gd0.250000                  -4.159631\n",
       "549    F0.750000Zr0.125000Ba0.125000                  -4.127671\n",
       "40282  F0.789500Zr0.157900Pr0.052600                  -4.097994\n",
       "26621            F0.800000Hf0.200000                  -4.097208\n",
       "1575             F0.750000Lu0.250000                  -4.085041\n",
       "5049   O0.600000Sc0.200000Gd0.200000                  -4.073482\n",
       "43036   O0.333300F0.333300Sc0.333300                  -4.052074\n",
       "28386  O0.600000La0.200000Er0.200000                  -4.028230\n",
       "34722  O0.600000La0.200000Ho0.200000                  -3.982404\n",
       "8814    O0.333300F0.333300Tb0.333300                  -3.970837\n",
       "18184  O0.600000Nd0.200000Hf0.200000                  -3.969802\n",
       "2106   F0.666700Mg0.179500Ba0.153800                  -3.959293\n",
       "34876            O0.600000Tm0.400000                  -3.935757\n",
       "3338   Be0.166700F0.666700Yb0.166700                  -3.935376\n",
       "12044  O0.600000Ti0.200000Gd0.200000                  -3.932047\n",
       "9381   O0.600000Nd0.200000Tm0.200000                  -3.925135\n",
       "37610   O0.600000Y0.200000La0.200000                  -3.913190\n",
       "26044            F0.750000Pu0.250000                  -3.904193\n",
       "16470  O0.600000Eu0.200000Pu0.200000                  -3.895097"
      ]
     },
     "execution_count": 19,
     "metadata": {},
     "output_type": "execute_result"
    }
   ],
   "source": [
    "df.sort_values(by=\"formation_energy_per_atom\").head(20)"
   ]
  },
  {
   "cell_type": "code",
   "execution_count": 20,
   "metadata": {
    "colab": {},
    "colab_type": "code",
    "id": "4Bim5rMnh25N",
    "outputId": "a69b1be2-de20-46d2-c2be-9b04fe8bbe4f"
   },
   "outputs": [
    {
     "data": {
      "text/html": [
       "<div>\n",
       "<style scoped>\n",
       "    .dataframe tbody tr th:only-of-type {\n",
       "        vertical-align: middle;\n",
       "    }\n",
       "\n",
       "    .dataframe tbody tr th {\n",
       "        vertical-align: top;\n",
       "    }\n",
       "\n",
       "    .dataframe thead th {\n",
       "        text-align: right;\n",
       "    }\n",
       "</style>\n",
       "<table border=\"1\" class=\"dataframe\">\n",
       "  <thead>\n",
       "    <tr style=\"text-align: right;\">\n",
       "      <th></th>\n",
       "      <th>atom</th>\n",
       "      <th>energy</th>\n",
       "    </tr>\n",
       "  </thead>\n",
       "  <tbody>\n",
       "    <tr>\n",
       "      <th>0</th>\n",
       "      <td>Tb</td>\n",
       "      <td>0.863476</td>\n",
       "    </tr>\n",
       "    <tr>\n",
       "      <th>1</th>\n",
       "      <td>Er</td>\n",
       "      <td>0.863476</td>\n",
       "    </tr>\n",
       "    <tr>\n",
       "      <th>2</th>\n",
       "      <td>Np</td>\n",
       "      <td>0.863476</td>\n",
       "    </tr>\n",
       "    <tr>\n",
       "      <th>3</th>\n",
       "      <td>Zr</td>\n",
       "      <td>0.670903</td>\n",
       "    </tr>\n",
       "    <tr>\n",
       "      <th>4</th>\n",
       "      <td>Ag</td>\n",
       "      <td>0.670903</td>\n",
       "    </tr>\n",
       "  </tbody>\n",
       "</table>\n",
       "</div>"
      ],
      "text/plain": [
       "  atom    energy\n",
       "0   Tb  0.863476\n",
       "1   Er  0.863476\n",
       "2   Np  0.863476\n",
       "3   Zr  0.670903\n",
       "4   Ag  0.670903"
      ]
     },
     "execution_count": 20,
     "metadata": {},
     "output_type": "execute_result"
    }
   ],
   "source": [
    "elements = sorted(list(atoms_unique))\n",
    "compositions = df.formula.apply(mg.Composition).values\n",
    "energies = df.formation_energy_per_atom.values\n",
    "D = pd.DataFrame([\n",
    "    {\"atom\": str(atom), \"energy\": energy} \n",
    "    for comp, energy in zip(compositions, energies) for atom in comp.keys()\n",
    "])\n",
    "D.head()"
   ]
  },
  {
   "cell_type": "code",
   "execution_count": 21,
   "metadata": {
    "colab": {},
    "colab_type": "code",
    "id": "cLPCAOoFh25S",
    "outputId": "afd48ed8-bda2-40fb-f0f8-c0f59942d1a1"
   },
   "outputs": [
    {
     "data": {
      "text/plain": [
       "Text(0, 0.5, 'Mean formation energy of compositions that contain an atom')"
      ]
     },
     "execution_count": 21,
     "metadata": {},
     "output_type": "execute_result"
    },
    {
     "data": {
      "image/png": "[encoded data removed]",
      "text/plain": [
       "<Figure size 2160x720 with 1 Axes>"
      ]
     },
     "metadata": {
      "needs_background": "light"
     },
     "output_type": "display_data"
    }
   ],
   "source": [
    "fig = plt.figure(figsize=(30, 10))\n",
    "sns.barplot(x=\"atom\", y=\"energy\", data=D, ci=\"sd\")\n",
    "plt.xlabel(\"Atom\")\n",
    "plt.ylabel(\"Mean formation energy of compositions that contain an atom\")"
   ]
  },
  {
   "cell_type": "markdown",
   "metadata": {
    "colab_type": "text",
    "id": "IcEBm9JMh25Y"
   },
   "source": [
    "## Baseline solutions"
   ]
  },
  {
   "cell_type": "markdown",
   "metadata": {
    "colab_type": "text",
    "id": "iPyqzoZnh25a"
   },
   "source": [
    "Your goal is to predict the formation energy per atom (eV) given the composition (formula column).\n",
    "\n",
    "There are two steps:\n",
    "\n",
    "1) Feature engineering: build useful features given the composition (formula column)\n",
    "\n",
    "2) Regression: given the features, learn a model that will predict the formation energy per atom (eV)\n",
    "\n",
    "The following are two examples (example 1, example 2) of what a feature extractor and regressor could be. You might use them as a starting point to develop your own solutions."
   ]
  },
  {
   "cell_type": "markdown",
   "metadata": {
    "colab_type": "text",
    "id": "sPBVvB1Nh25d"
   },
   "source": [
    "### Pipeline - example 1"
   ]
  },
  {
   "cell_type": "code",
   "execution_count": 3,
   "metadata": {
    "colab": {},
    "colab_type": "code",
    "id": "urcdR4MXh25e"
   },
   "outputs": [],
   "source": [
    "from matminer.featurizers.composition import ElementProperty\n",
    "class FeatureExtractor:\n",
    "    def __init__(self):\n",
    "        pass\n",
    " \n",
    "    def fit(self, X_df, y=None):\n",
    "        return self\n",
    " \n",
    "    def transform(self, df):\n",
    "        compositions = df.formula.apply(mg.Composition).values\n",
    "        feature_calculators = ElementProperty.from_preset(\"magpie\")                 \n",
    "        X = feature_calculators.transform(compositions)\n",
    "        return X"
   ]
  },
  {
   "cell_type": "code",
   "execution_count": 4,
   "metadata": {
    "colab": {},
    "colab_type": "code",
    "id": "ghzLXGTnh25k"
   },
   "outputs": [],
   "source": [
    "from sklearn.base import BaseEstimator\n",
    "from sklearn.ensemble import RandomForestRegressor\n",
    " \n",
    "class Regressor(BaseEstimator):\n",
    "    def __init__(self):\n",
    "        self.reg = RandomForestRegressor(max_depth=5, n_estimators=30)\n",
    " \n",
    "    def fit(self, X, y):\n",
    "        self.reg.fit(X, y)\n",
    " \n",
    "    def predict(self, X):\n",
    "        return self.reg.predict(X)"
   ]
  },
  {
   "cell_type": "markdown",
   "metadata": {
    "colab_type": "text",
    "id": "trKAnL4Ah25p"
   },
   "source": [
    "### Pipeline - example 2"
   ]
  },
  {
   "cell_type": "code",
   "execution_count": 102,
   "metadata": {
    "colab": {},
    "colab_type": "code",
    "id": "laJF-waFh25q"
   },
   "outputs": [],
   "source": [
    "from collections import defaultdict\n",
    "import numpy as np\n",
    "import re\n",
    "import pymatgen as mg\n",
    " \n",
    "elements = ['H', 'Li', 'Be', 'B', 'C', 'N', 'O', 'F', 'Na', 'Mg', 'Al', 'Si', 'P', 'S', 'Cl', 'K', 'Ca', 'Sc', 'Ti', 'V', \n",
    "            'Cr', 'Mn', 'Fe', 'Co', 'Ni', 'Cu', 'Zn', 'Ga', 'Ge', 'As', 'Se', 'Br', 'Kr', 'Rb', 'Sr', 'Y', 'Zr', 'Nb', \n",
    "            'Mo', 'Tc', 'Ru', 'Rh', 'Pd', 'Ag', 'Cd', 'In', 'Sn', 'Sb', 'Te', 'I', 'Xe', 'Cs', 'Ba', 'La', 'Ce', 'Pr', \n",
    "            'Nd', 'Pm', 'Sm', 'Eu', 'Gd', 'Tb', 'Dy', 'Ho', 'Er', 'Tm', 'Yb', 'Lu', 'Hf', 'Ta', 'W', 'Re', 'Os', 'Ir', \n",
    "            'Pt', 'Au', 'Hg', 'Tl', 'Pb', 'Bi', 'Ac', 'Th', 'Pa', 'U', 'Np', 'Pu']\n",
    " \n",
    "class FeatureExtractor:\n",
    "    def __init__(self):\n",
    "        pass\n",
    " \n",
    "    def fit(self, X_df, y=None):\n",
    "        return self\n",
    " \n",
    "    def transform(self, X_df):\n",
    "        formulas = X_df.formula.values\n",
    "        temp_1 = np.zeros(shape=(len(formulas), len(elements)), dtype=np.float32)\n",
    "        for i, formula in enumerate(formulas):\n",
    "            comp = mg.Composition(formula).as_dict()\n",
    "            for k in comp.keys():\n",
    "                temp_1[i][elements.index(k)] = comp[k]\n",
    "        average_electroneg = X_df.formula.apply(lambda x: mg.Composition(x).average_electroneg)\n",
    "        num_atoms = X_df.formula.apply(lambda x: mg.Composition(x).num_atoms)\n",
    "        total_electrons = X_df.formula.apply(lambda x: mg.Composition(x).total_electrons)\n",
    "        weight = X_df.formula.apply(lambda x: mg.Composition(x).weight)\n",
    "        return np.concatenate((temp_1, np.reshape(weight.values, (len(weight), 1)),\n",
    "                               np.reshape(average_electroneg.values, (len(weight), 1)),\n",
    "                               np.reshape(num_atoms.values, (len(weight), 1)),\n",
    "                               np.reshape(total_electrons.values, (len(weight), 1))\n",
    "                              ), axis=1)"
   ]
  },
  {
   "cell_type": "code",
   "execution_count": 6,
   "metadata": {
    "colab": {},
    "colab_type": "code",
    "id": "FNqDTEcRh25s"
   },
   "outputs": [],
   "source": [
    "from sklearn.base import BaseEstimator\n",
    "from sklearn.ensemble import RandomForestRegressor\n",
    " \n",
    "class Regressor(BaseEstimator):\n",
    "    def __init__(self):\n",
    "        self.reg = RandomForestRegressor(max_depth=5, n_estimators=30)\n",
    " \n",
    "    def fit(self, X, y):\n",
    "        self.reg.fit(X, y)\n",
    " \n",
    "    def predict(self, X):\n",
    "        return self.reg.predict(X)"
   ]
  },
  {
   "cell_type": "markdown",
   "metadata": {
    "colab_type": "text",
    "id": "Ss4_dUu5h25w"
   },
   "source": [
    "# Pipeline - your code (modify THIS)\n"
   ]
  },
  {
   "cell_type": "code",
   "execution_count": 18,
   "metadata": {},
   "outputs": [],
   "source": [
    "%matplotlib inline\n",
    "from collections import defaultdict\n",
    "from itertools import combinations\n",
    "import matplotlib.pyplot as plt\n",
    "import seaborn as sns\n",
    "from sklearn.manifold import TSNE\n",
    "from tqdm import tqdm_notebook as tqdm\n",
    "import numpy as np\n",
    "import pandas as pd\n",
    "import pymatgen as mg\n",
    "from matminer.featurizers.composition import ElementProperty\n",
    "from sklearn.model_selection import cross_val_score\n",
    "sns.set(style='darkgrid')"
   ]
  },
  {
   "cell_type": "markdown",
   "metadata": {
    "colab_type": "text",
    "id": "-ntruu3ah25x"
   },
   "source": [
    "Once you have a good understanding of the provided data (through the exploratory data analysis section) and the above baseline solutions, you can start implementing your own pipeline by modifying this section. To submit, please check back the instructions provided under the section \"Working with RAMP\"."
   ]
  },
  {
   "cell_type": "code",
   "execution_count": 24,
   "metadata": {
    "colab": {},
    "colab_type": "code",
    "id": "KRrWjOXSh25y"
   },
   "outputs": [],
   "source": [
    "from collections import defaultdict\n",
    "import numpy as np\n",
    "import re\n",
    "import pymatgen as mg\n",
    " \n",
    "elements = ['H', 'Li', 'Be', 'B', 'C', 'N', 'O', 'F', 'Na', 'Mg', 'Al', 'Si', 'P', 'S', 'Cl', 'K', 'Ca', 'Sc', 'Ti', 'V', \n",
    "            'Cr', 'Mn', 'Fe', 'Co', 'Ni', 'Cu', 'Zn', 'Ga', 'Ge', 'As', 'Se', 'Br', 'Kr', 'Rb', 'Sr', 'Y', 'Zr', 'Nb', \n",
    "            'Mo', 'Tc', 'Ru', 'Rh', 'Pd', 'Ag', 'Cd', 'In', 'Sn', 'Sb', 'Te', 'I', 'Xe', 'Cs', 'Ba', 'La', 'Ce', 'Pr', \n",
    "            'Nd', 'Pm', 'Sm', 'Eu', 'Gd', 'Tb', 'Dy', 'Ho', 'Er', 'Tm', 'Yb', 'Lu', 'Hf', 'Ta', 'W', 'Re', 'Os', 'Ir', \n",
    "            'Pt', 'Au', 'Hg', 'Tl', 'Pb', 'Bi', 'Ac', 'Th', 'Pa', 'U', 'Np', 'Pu']\n",
    " \n",
    "class FeatureExtractor:\n",
    "    def __init__(self):\n",
    "        pass\n",
    " \n",
    "    def fit(self, X_df, y=None):\n",
    "        return self\n",
    " \n",
    "    def transform(self, X_df):\n",
    "        formulas = X_df.formula.values\n",
    "        temp_1 = np.zeros(shape=(len(formulas), len(elements)), dtype=np.float32)\n",
    "        for i, formula in enumerate(formulas):\n",
    "            comp = mg.Composition(formula).as_dict()\n",
    "            for k in comp.keys():\n",
    "                temp_1[i][elements.index(k)] = comp[k]\n",
    "        #average_electroneg = X_df.formula.apply(lambda x: mg.Composition(x).average_electroneg)\n",
    "        weight = X_df.formula.apply(lambda x: mg.Composition(x).weight)\n",
    "        #total_electrons = X_df.formula.apply(lambda x: mg.Composition(x).total_electrons)\n",
    "        #weight = X_df.formula.apply(lambda x: mg.Composition(x).weight)\n",
    "        return np.concatenate((temp_1,np.reshape(weight.values, (len(weight), 1))), axis=1)"
   ]
  },
  {
   "cell_type": "code",
   "execution_count": null,
   "metadata": {},
   "outputs": [],
   "source": [
    "        return np.concatenate((temp_1, np.reshape(weight.values, (len(weight), 1)),\n",
    "                               np.reshape(average_electroneg.values, (len(weight), 1)),\n",
    "                               np.reshape(num_atoms.values, (len(weight), 1)),\n",
    "                               np.reshape(total_electrons.values, (len(weight), 1))\n",
    "                              ), axis=1)"
   ]
  },
  {
   "cell_type": "code",
   "execution_count": 15,
   "metadata": {
    "colab": {},
    "colab_type": "code",
    "id": "GdzcQs3Wh252"
   },
   "outputs": [],
   "source": [
    "from sklearn.base import BaseEstimator\n",
    "from sklearn.ensemble import RandomForestRegressor\n",
    "from sklearn.neural_network import MLPRegressor\n",
    " \n",
    "class Regressor(BaseEstimator):\n",
    "    def __init__(self):\n",
    "        self.reg = MLPRegressor(activation='relu', alpha=0.01, hidden_layer_sizes=(35,), solver='adam', max_iter=500) # --> 0.12\n",
    "        # self.reg = RandomForestRegressor(max_depth=5, n_estimators=30) # --> \n",
    " \n",
    "    def fit(self, X, y):\n",
    "        self.reg.fit(X, y)\n",
    " \n",
    "    def predict(self, X):\n",
    "        return self.reg.predict(X)"
   ]
  },
  {
   "cell_type": "code",
   "execution_count": 9,
   "metadata": {
    "colab": {},
    "colab_type": "code",
    "id": "Pj6s_uU7h254"
   },
   "outputs": [],
   "source": [
    "atom_groups = [\n",
    "    (\"Li\", \"O\"),\n",
    "    (\"Cu\", \"Zn\"),\n",
    "    (\"Cr\", \"Zn\"),\n",
    "    (\"Co\", \"Zn\"),\n",
    "    (\"Cu\", \"Ge\"),\n",
    "    (\"Cu\", \"Si\"),\n",
    "    (\"Al\", \"Cu\"),\n",
    "    (\"Cu\", \"Mg\"),\n",
    "    (\"Fe\", \"O\"),\n",
    "    (\"Fe\", \"Zn\"),\n",
    "]"
   ]
  },
  {
   "cell_type": "code",
   "execution_count": 25,
   "metadata": {
    "colab": {
     "base_uri": "https://localhost:8080/",
     "height": 34
    },
    "colab_type": "code",
    "id": "e-PjLSeyh26A",
    "outputId": "3b2a9363-82c4-4a9b-8954-b1de0ee66cf2"
   },
   "outputs": [
    {
     "data": {
      "application/vnd.jupyter.widget-view+json": {
       "model_id": "8a4853ac127247648681766e069e3781",
       "version_major": 2,
       "version_minor": 0
      },
      "text/plain": [
       "HBox(children=(IntProgress(value=0, max=10), HTML(value='')))"
      ]
     },
     "metadata": {},
     "output_type": "display_data"
    },
    {
     "name": "stdout",
     "output_type": "stream",
     "text": [
      "\n",
      "[0.31144168522096577, 0.12311844530034889, 0.10740785591860175, 0.11440581900312413, 0.12078219895308481, 0.1705902635311178, 0.16141176849519706, 0.10701511215765584, 0.24708864580004605, 0.08658561596726864]\n"
     ]
    }
   ],
   "source": [
    "df = pd.read_csv(\"data/train.csv\")\n",
    "fe = FeatureExtractor()\n",
    "compositions = df.formula.apply(mg.Composition).values\n",
    "compositions = [set(map(str, comp.keys())) for comp in compositions]\n",
    "X = fe.transform(df)\n",
    "y = df.formation_energy_per_atom.values\n",
    "scores = []\n",
    "for atoms in tqdm(atom_groups):\n",
    "    reg = Regressor()\n",
    "    atoms = set(atoms)\n",
    "    is_test = np.array([atoms.issubset(comp) for comp in compositions]) # couple present in the dictionary\n",
    "    is_train = ~is_test\n",
    "    reg.fit(X[is_train], y[is_train])\n",
    "    ypred = reg.predict(X[is_test])\n",
    "    score = np.abs(ypred - y[is_test]).mean()\n",
    "    scores.append(score)\n",
    "print(scores)"
   ]
  },
  {
   "cell_type": "code",
   "execution_count": 26,
   "metadata": {
    "colab": {
     "base_uri": "https://localhost:8080/",
     "height": 34
    },
    "colab_type": "code",
    "id": "t9RPYVpOh26F",
    "outputId": "a0677eff-f4a3-47c1-a8f2-9be47bb44cd2"
   },
   "outputs": [
    {
     "name": "stdout",
     "output_type": "stream",
     "text": [
      "0.15498474103474108\n"
     ]
    }
   ],
   "source": [
    "print(np.mean(scores))"
   ]
  },
  {
   "cell_type": "markdown",
   "metadata": {},
   "source": [
    "# Moi"
   ]
  },
  {
   "cell_type": "code",
   "execution_count": 2,
   "metadata": {},
   "outputs": [
    {
     "data": {
      "text/html": [
       "<div>\n",
       "<style scoped>\n",
       "    .dataframe tbody tr th:only-of-type {\n",
       "        vertical-align: middle;\n",
       "    }\n",
       "\n",
       "    .dataframe tbody tr th {\n",
       "        vertical-align: top;\n",
       "    }\n",
       "\n",
       "    .dataframe thead th {\n",
       "        text-align: right;\n",
       "    }\n",
       "</style>\n",
       "<table border=\"1\" class=\"dataframe\">\n",
       "  <thead>\n",
       "    <tr style=\"text-align: right;\">\n",
       "      <th></th>\n",
       "      <th>formula</th>\n",
       "      <th>formation_energy_per_atom</th>\n",
       "    </tr>\n",
       "  </thead>\n",
       "  <tbody>\n",
       "    <tr>\n",
       "      <th>0</th>\n",
       "      <td>Tb0.250000Er0.250000Np0.500000</td>\n",
       "      <td>0.863476</td>\n",
       "    </tr>\n",
       "    <tr>\n",
       "      <th>1</th>\n",
       "      <td>Zr0.250000Ag0.250000Re0.500000</td>\n",
       "      <td>0.670903</td>\n",
       "    </tr>\n",
       "    <tr>\n",
       "      <th>2</th>\n",
       "      <td>Mo0.250000Ba0.250000Th0.500000</td>\n",
       "      <td>0.701847</td>\n",
       "    </tr>\n",
       "    <tr>\n",
       "      <th>3</th>\n",
       "      <td>Sn0.250000Os0.250000Pa0.500000</td>\n",
       "      <td>0.057070</td>\n",
       "    </tr>\n",
       "    <tr>\n",
       "      <th>4</th>\n",
       "      <td>Li0.125000Fe0.125000Cu0.500000In0.250000</td>\n",
       "      <td>0.023933</td>\n",
       "    </tr>\n",
       "  </tbody>\n",
       "</table>\n",
       "</div>"
      ],
      "text/plain": [
       "                                    formula  formation_energy_per_atom\n",
       "0            Tb0.250000Er0.250000Np0.500000                   0.863476\n",
       "1            Zr0.250000Ag0.250000Re0.500000                   0.670903\n",
       "2            Mo0.250000Ba0.250000Th0.500000                   0.701847\n",
       "3            Sn0.250000Os0.250000Pa0.500000                   0.057070\n",
       "4  Li0.125000Fe0.125000Cu0.500000In0.250000                   0.023933"
      ]
     },
     "execution_count": 2,
     "metadata": {},
     "output_type": "execute_result"
    }
   ],
   "source": [
    "#################\n",
    "### load data ###\n",
    "#################\n",
    "\n",
    "df = pd.read_csv(\"data/train.csv\")\n",
    "df.head()"
   ]
  },
  {
   "cell_type": "code",
   "execution_count": 3,
   "metadata": {},
   "outputs": [
    {
     "data": {
      "text/html": [
       "<div>\n",
       "<style scoped>\n",
       "    .dataframe tbody tr th:only-of-type {\n",
       "        vertical-align: middle;\n",
       "    }\n",
       "\n",
       "    .dataframe tbody tr th {\n",
       "        vertical-align: top;\n",
       "    }\n",
       "\n",
       "    .dataframe thead th {\n",
       "        text-align: right;\n",
       "    }\n",
       "</style>\n",
       "<table border=\"1\" class=\"dataframe\">\n",
       "  <thead>\n",
       "    <tr style=\"text-align: right;\">\n",
       "      <th></th>\n",
       "      <th>formula</th>\n",
       "      <th>formation_energy_per_atom</th>\n",
       "      <th>H</th>\n",
       "      <th>Li</th>\n",
       "      <th>Be</th>\n",
       "      <th>B</th>\n",
       "      <th>C</th>\n",
       "      <th>N</th>\n",
       "      <th>O</th>\n",
       "      <th>F</th>\n",
       "      <th>...</th>\n",
       "      <th>Hg</th>\n",
       "      <th>Tl</th>\n",
       "      <th>Pb</th>\n",
       "      <th>Bi</th>\n",
       "      <th>Ac</th>\n",
       "      <th>Th</th>\n",
       "      <th>Pa</th>\n",
       "      <th>U</th>\n",
       "      <th>Np</th>\n",
       "      <th>Pu</th>\n",
       "    </tr>\n",
       "  </thead>\n",
       "  <tbody>\n",
       "    <tr>\n",
       "      <th>0</th>\n",
       "      <td>Tb0.250000Er0.250000Np0.500000</td>\n",
       "      <td>0.863476</td>\n",
       "      <td>0.0</td>\n",
       "      <td>0.000</td>\n",
       "      <td>0.0</td>\n",
       "      <td>0.0</td>\n",
       "      <td>0.0</td>\n",
       "      <td>0.0</td>\n",
       "      <td>0.0</td>\n",
       "      <td>0.0</td>\n",
       "      <td>...</td>\n",
       "      <td>0.0</td>\n",
       "      <td>0.0</td>\n",
       "      <td>0.0</td>\n",
       "      <td>0.0</td>\n",
       "      <td>0.0</td>\n",
       "      <td>0.0</td>\n",
       "      <td>0.0</td>\n",
       "      <td>0.0</td>\n",
       "      <td>0.5</td>\n",
       "      <td>0.0</td>\n",
       "    </tr>\n",
       "    <tr>\n",
       "      <th>1</th>\n",
       "      <td>Zr0.250000Ag0.250000Re0.500000</td>\n",
       "      <td>0.670903</td>\n",
       "      <td>0.0</td>\n",
       "      <td>0.000</td>\n",
       "      <td>0.0</td>\n",
       "      <td>0.0</td>\n",
       "      <td>0.0</td>\n",
       "      <td>0.0</td>\n",
       "      <td>0.0</td>\n",
       "      <td>0.0</td>\n",
       "      <td>...</td>\n",
       "      <td>0.0</td>\n",
       "      <td>0.0</td>\n",
       "      <td>0.0</td>\n",
       "      <td>0.0</td>\n",
       "      <td>0.0</td>\n",
       "      <td>0.0</td>\n",
       "      <td>0.0</td>\n",
       "      <td>0.0</td>\n",
       "      <td>0.0</td>\n",
       "      <td>0.0</td>\n",
       "    </tr>\n",
       "    <tr>\n",
       "      <th>2</th>\n",
       "      <td>Mo0.250000Ba0.250000Th0.500000</td>\n",
       "      <td>0.701847</td>\n",
       "      <td>0.0</td>\n",
       "      <td>0.000</td>\n",
       "      <td>0.0</td>\n",
       "      <td>0.0</td>\n",
       "      <td>0.0</td>\n",
       "      <td>0.0</td>\n",
       "      <td>0.0</td>\n",
       "      <td>0.0</td>\n",
       "      <td>...</td>\n",
       "      <td>0.0</td>\n",
       "      <td>0.0</td>\n",
       "      <td>0.0</td>\n",
       "      <td>0.0</td>\n",
       "      <td>0.0</td>\n",
       "      <td>0.5</td>\n",
       "      <td>0.0</td>\n",
       "      <td>0.0</td>\n",
       "      <td>0.0</td>\n",
       "      <td>0.0</td>\n",
       "    </tr>\n",
       "    <tr>\n",
       "      <th>3</th>\n",
       "      <td>Sn0.250000Os0.250000Pa0.500000</td>\n",
       "      <td>0.057070</td>\n",
       "      <td>0.0</td>\n",
       "      <td>0.000</td>\n",
       "      <td>0.0</td>\n",
       "      <td>0.0</td>\n",
       "      <td>0.0</td>\n",
       "      <td>0.0</td>\n",
       "      <td>0.0</td>\n",
       "      <td>0.0</td>\n",
       "      <td>...</td>\n",
       "      <td>0.0</td>\n",
       "      <td>0.0</td>\n",
       "      <td>0.0</td>\n",
       "      <td>0.0</td>\n",
       "      <td>0.0</td>\n",
       "      <td>0.0</td>\n",
       "      <td>0.5</td>\n",
       "      <td>0.0</td>\n",
       "      <td>0.0</td>\n",
       "      <td>0.0</td>\n",
       "    </tr>\n",
       "    <tr>\n",
       "      <th>4</th>\n",
       "      <td>Li0.125000Fe0.125000Cu0.500000In0.250000</td>\n",
       "      <td>0.023933</td>\n",
       "      <td>0.0</td>\n",
       "      <td>0.125</td>\n",
       "      <td>0.0</td>\n",
       "      <td>0.0</td>\n",
       "      <td>0.0</td>\n",
       "      <td>0.0</td>\n",
       "      <td>0.0</td>\n",
       "      <td>0.0</td>\n",
       "      <td>...</td>\n",
       "      <td>0.0</td>\n",
       "      <td>0.0</td>\n",
       "      <td>0.0</td>\n",
       "      <td>0.0</td>\n",
       "      <td>0.0</td>\n",
       "      <td>0.0</td>\n",
       "      <td>0.0</td>\n",
       "      <td>0.0</td>\n",
       "      <td>0.0</td>\n",
       "      <td>0.0</td>\n",
       "    </tr>\n",
       "  </tbody>\n",
       "</table>\n",
       "<p>5 rows × 88 columns</p>\n",
       "</div>"
      ],
      "text/plain": [
       "                                    formula  formation_energy_per_atom    H  \\\n",
       "0            Tb0.250000Er0.250000Np0.500000                   0.863476  0.0   \n",
       "1            Zr0.250000Ag0.250000Re0.500000                   0.670903  0.0   \n",
       "2            Mo0.250000Ba0.250000Th0.500000                   0.701847  0.0   \n",
       "3            Sn0.250000Os0.250000Pa0.500000                   0.057070  0.0   \n",
       "4  Li0.125000Fe0.125000Cu0.500000In0.250000                   0.023933  0.0   \n",
       "\n",
       "      Li   Be    B    C    N    O    F ...    Hg   Tl   Pb   Bi   Ac   Th  \\\n",
       "0  0.000  0.0  0.0  0.0  0.0  0.0  0.0 ...   0.0  0.0  0.0  0.0  0.0  0.0   \n",
       "1  0.000  0.0  0.0  0.0  0.0  0.0  0.0 ...   0.0  0.0  0.0  0.0  0.0  0.0   \n",
       "2  0.000  0.0  0.0  0.0  0.0  0.0  0.0 ...   0.0  0.0  0.0  0.0  0.0  0.5   \n",
       "3  0.000  0.0  0.0  0.0  0.0  0.0  0.0 ...   0.0  0.0  0.0  0.0  0.0  0.0   \n",
       "4  0.125  0.0  0.0  0.0  0.0  0.0  0.0 ...   0.0  0.0  0.0  0.0  0.0  0.0   \n",
       "\n",
       "    Pa    U   Np   Pu  \n",
       "0  0.0  0.0  0.5  0.0  \n",
       "1  0.0  0.0  0.0  0.0  \n",
       "2  0.0  0.0  0.0  0.0  \n",
       "3  0.5  0.0  0.0  0.0  \n",
       "4  0.0  0.0  0.0  0.0  \n",
       "\n",
       "[5 rows x 88 columns]"
      ]
     },
     "execution_count": 3,
     "metadata": {},
     "output_type": "execute_result"
    }
   ],
   "source": [
    "#########################\n",
    "### 1 atom = 1 column ###\n",
    "#########################\n",
    "\n",
    "elements = ['H', 'Li', 'Be', 'B', 'C', 'N', 'O', 'F', 'Na', 'Mg', 'Al', 'Si', 'P', 'S', 'Cl', 'K', 'Ca', 'Sc', 'Ti', 'V', \n",
    "            'Cr', 'Mn', 'Fe', 'Co', 'Ni', 'Cu', 'Zn', 'Ga', 'Ge', 'As', 'Se', 'Br', 'Kr', 'Rb', 'Sr', 'Y', 'Zr', 'Nb', \n",
    "            'Mo', 'Tc', 'Ru', 'Rh', 'Pd', 'Ag', 'Cd', 'In', 'Sn', 'Sb', 'Te', 'I', 'Xe', 'Cs', 'Ba', 'La', 'Ce', 'Pr', \n",
    "            'Nd', 'Pm', 'Sm', 'Eu', 'Gd', 'Tb', 'Dy', 'Ho', 'Er', 'Tm', 'Yb', 'Lu', 'Hf', 'Ta', 'W', 'Re', 'Os', 'Ir', \n",
    "            'Pt', 'Au', 'Hg', 'Tl', 'Pb', 'Bi', 'Ac', 'Th', 'Pa', 'U', 'Np', 'Pu']\n",
    "\n",
    "formulas = df.formula.values\n",
    "temp = np.zeros(shape=(len(formulas), len(elements)), dtype=np.float32)\n",
    "for i, formula in enumerate(formulas):\n",
    "    comp = mg.Composition(formula).as_dict()\n",
    "    for k in comp.keys():\n",
    "        temp[i][elements.index(k)] = comp[k]\n",
    "df[elements] = pd.DataFrame(temp, index=df.index)\n",
    "df.head()"
   ]
  },
  {
   "cell_type": "code",
   "execution_count": 4,
   "metadata": {},
   "outputs": [],
   "source": [
    "from sklearn.preprocessing import StandardScaler\n",
    "\n",
    "from sklearn.neural_network import MLPRegressor\n",
    "from sklearn.svm import SVR\n",
    "from sklearn.linear_model import Lasso\n",
    "from sklearn.linear_model import Ridge\n",
    "from sklearn.linear_model import LinearRegression\n",
    "from sklearn.gaussian_process import GaussianProcessRegressor\n",
    "from sklearn.ensemble import GradientBoostingRegressor\n",
    "from sklearn.ensemble import RandomForestRegressor\n",
    "from sklearn.linear_model import LogisticRegression\n",
    "from sklearn.linear_model import Lars\n",
    "from sklearn.linear_model import BayesianRidge\n",
    "import lightgbm as lgb\n",
    "\n",
    "from sklearn.model_selection import GridSearchCV\n",
    "from tqdm import tqdm_notebook as tqdm\n",
    "from sklearn.model_selection import train_test_split\n",
    "import itertools as it\n",
    "import operator\n",
    "from sklearn.metrics import mean_squared_error, r2_score, mean_absolute_error\n",
    "\n",
    "import warnings\n",
    "warnings.filterwarnings(\"ignore\")\n",
    "\n",
    "def tune_plot(model, param, X, y, normalize=1, iter_gridsearch=1, nb_cv=5, test_size=0.3, seed=141421):\n",
    "    \n",
    "    \"\"\"\n",
    "    Tune a given model with GridSearchCV and give for accuracy results with a confusion matrix.\n",
    "    \n",
    "    First you need to make sure that you imported the library for your model!\n",
    "    \n",
    "    model = classificator\n",
    "    param = parameters of your classificator that you want to tune \n",
    "    X = data for prediction (DataFrame pref)\n",
    "    y = target to predict (DataFrame pref)\n",
    "    normalize = True/False (normalize both X and y with StandardScaler and LabelEncoder)\n",
    "    iter_gridsearch = number of iteration for GridSearchCV (can be usefull if your model involve randomness)\n",
    "    nb_cv = number of cross validation\n",
    "    test_size = test size in percent (splitting train and test set)\n",
    "    seed = seed for random state\n",
    "    \"\"\"\n",
    "    \n",
    "    print(\" ************************* \", str(model), \" ************************* \")\n",
    "    \n",
    "    ######################\n",
    "    ### Normalize data ###\n",
    "    ######################\n",
    "    \n",
    "    if normalize:\n",
    "        yy = (y - np.mean(y)) / np.std(y)\n",
    "        scaler = StandardScaler()\n",
    "        scaler.fit(X)\n",
    "        XX = scaler.transform(X)\n",
    "    else:\n",
    "        yy = y\n",
    "        XX = X\n",
    "    \n",
    "    ####################\n",
    "    ### GridSearchCV ###\n",
    "    ####################\n",
    "    \n",
    "            #######################################################\n",
    "            ### creat a dictionary of all possible combinations ###\n",
    "            #######################################################\n",
    "\n",
    "    allNames = sorted(param)\n",
    "    dic_comb = {key: 0 for key in it.product(*(param[Name] for Name in allNames))}\n",
    "\n",
    "            ####################################\n",
    "            ### iteration throw GridSearchCV ###\n",
    "            ####################################\n",
    "\n",
    "    for i in tqdm(range(iter_gridsearch)):\n",
    "        result_grid_search = GridSearchCV(estimator=model(), param_grid=param, cv=nb_cv, return_train_score=False)\n",
    "        result_grid_search.fit(XX, yy)\n",
    "        dic_comb[tuple(result_grid_search.best_params_[Name] for Name in allNames)] += 1\n",
    "\n",
    "            ############################################\n",
    "            ### selecting the best set of parameters ###\n",
    "            ############################################\n",
    "\n",
    "    best_param = {key : value for key, value in zip(allNames, max(dic_comb.items(), key=operator.itemgetter(1))[0])} \n",
    "    \n",
    "    print('best parameters: ', best_param)\n",
    "    \n",
    "    ####################\n",
    "    ### update model ###\n",
    "    ####################\n",
    "    \n",
    "    clf = model(**best_param)\n",
    "    \n",
    "    ########################\n",
    "    ### train / test set ###\n",
    "    ########################\n",
    "    \n",
    "    x_train, x_test, y_train, y_test = train_test_split(XX, yy, test_size=test_size, random_state=seed)\n",
    "    \n",
    "    #################\n",
    "    ### fit model ###\n",
    "    #################    \n",
    "    \n",
    "    clf.fit(x_train, y_train)\n",
    "    \n",
    "    #############\n",
    "    ### Score ###\n",
    "    #############\n",
    "    print('\\n')\n",
    "    \n",
    "    print(\"Mean squared error (on test set): %.2f\" % mean_absolute_error(y_test, clf.predict(x_test)))\n",
    "    print('Variance score (max_value=1 for perfect prediction): %.2f' % r2_score(y_test, clf.predict(x_test)))\n",
    "    \n",
    "    #####################\n",
    "    ### Average score ###\n",
    "    #####################\n",
    "    \n",
    "    print('\\n')\n",
    "    mae = 0\n",
    "    var = 0\n",
    "    y_error = []\n",
    "    n = 30\n",
    "    for i in range(n):\n",
    "        x_train, x_test, y_train, y_test = train_test_split(XX, yy, test_size=test_size, random_state=i)\n",
    "        clf.fit(x_train, y_train)\n",
    "        y_pred = clf.predict(x_test)\n",
    "        y_error.append(list(y_test.values - y_pred))\n",
    "        mae += mean_absolute_error(y_test, y_pred)\n",
    "        var += r2_score(y_test, y_pred)\n",
    "    print(\"Average Mean squared error: %.2f\" %(mae / n))\n",
    "    print('Average Variance score (max_value=1 for perfect prediction): %.2f' %(var / n))\n",
    "    \n",
    "    ##########################\n",
    "    ### error distribution ###\n",
    "    ##########################\n",
    "    \n",
    "    plt.figure(figsize=(15, 6))\n",
    "    plt.title('Error distribution')\n",
    "    sns.distplot(y_error[0])\n",
    "    \n",
    "    return best_param"
   ]
  },
  {
   "cell_type": "code",
   "execution_count": 138,
   "metadata": {},
   "outputs": [],
   "source": [
    "atoms = {\"Li\", \"O\"}\n",
    "is_test = np.array([atoms.issubset(comp) for comp in compositions]) # couple present in the dictionary\n",
    "is_train = ~is_test\n",
    "X = df[is_train].drop(['formula'], axis=1)\n",
    "y = df[is_test].drop(['formula'], axis=1)"
   ]
  },
  {
   "cell_type": "markdown",
   "metadata": {},
   "source": [
    "# Test of the Lasso with GridSearhCV"
   ]
  },
  {
   "cell_type": "code",
   "execution_count": 122,
   "metadata": {},
   "outputs": [
    {
     "name": "stdout",
     "output_type": "stream",
     "text": [
      " *************************  <class 'sklearn.linear_model.coordinate_descent.Lasso'>  ************************* \n"
     ]
    },
    {
     "data": {
      "application/vnd.jupyter.widget-view+json": {
       "model_id": "2688d075bbcf4b79a0e97176bb743b24",
       "version_major": 2,
       "version_minor": 0
      },
      "text/plain": [
       "HBox(children=(IntProgress(value=0, max=10), HTML(value='')))"
      ]
     },
     "metadata": {},
     "output_type": "display_data"
    },
    {
     "name": "stdout",
     "output_type": "stream",
     "text": [
      "\n",
      "best parameters:  {'alpha': 0}\n",
      "\n",
      "\n",
      "Mean squared error (on test set): 0.40\n",
      "Variance score (max_value=1 for perfect prediction): 0.71\n",
      "\n",
      "\n"
     ]
    },
    {
     "ename": "AttributeError",
     "evalue": "'numpy.ndarray' object has no attribute 'values'",
     "output_type": "error",
     "traceback": [
      "\u001b[1;31m---------------------------------------------------------------------------\u001b[0m",
      "\u001b[1;31mAttributeError\u001b[0m                            Traceback (most recent call last)",
      "\u001b[1;32m<ipython-input-122-5a2969e1d230>\u001b[0m in \u001b[0;36m<module>\u001b[1;34m\u001b[0m\n\u001b[0;32m      3\u001b[0m     }\n\u001b[0;32m      4\u001b[0m \u001b[1;33m\u001b[0m\u001b[0m\n\u001b[1;32m----> 5\u001b[1;33m \u001b[0mbest_param_MLP\u001b[0m \u001b[1;33m=\u001b[0m \u001b[0mtune_plot\u001b[0m\u001b[1;33m(\u001b[0m\u001b[0mLasso\u001b[0m\u001b[1;33m,\u001b[0m \u001b[0mparam\u001b[0m\u001b[1;33m,\u001b[0m\u001b[0mX\u001b[0m\u001b[1;33m,\u001b[0m \u001b[0my\u001b[0m\u001b[1;33m,\u001b[0m\u001b[0mnormalize\u001b[0m\u001b[1;33m=\u001b[0m\u001b[1;32mTrue\u001b[0m\u001b[1;33m,\u001b[0m \u001b[0miter_gridsearch\u001b[0m\u001b[1;33m=\u001b[0m\u001b[1;36m10\u001b[0m\u001b[1;33m,\u001b[0m \u001b[0mnb_cv\u001b[0m\u001b[1;33m=\u001b[0m\u001b[1;36m3\u001b[0m\u001b[1;33m,\u001b[0m \u001b[0mtest_size\u001b[0m\u001b[1;33m=\u001b[0m\u001b[1;36m0.2\u001b[0m\u001b[1;33m,\u001b[0m \u001b[0mseed\u001b[0m\u001b[1;33m=\u001b[0m\u001b[1;36m11421\u001b[0m\u001b[1;33m)\u001b[0m\u001b[1;33m\u001b[0m\u001b[1;33m\u001b[0m\u001b[0m\n\u001b[0m",
      "\u001b[1;32m<ipython-input-120-c6972406334a>\u001b[0m in \u001b[0;36mtune_plot\u001b[1;34m(model, param, X, y, normalize, iter_gridsearch, nb_cv, test_size, seed)\u001b[0m\n\u001b[0;32m    124\u001b[0m         \u001b[0mclf\u001b[0m\u001b[1;33m.\u001b[0m\u001b[0mfit\u001b[0m\u001b[1;33m(\u001b[0m\u001b[0mx_train\u001b[0m\u001b[1;33m,\u001b[0m \u001b[0my_train\u001b[0m\u001b[1;33m)\u001b[0m\u001b[1;33m\u001b[0m\u001b[1;33m\u001b[0m\u001b[0m\n\u001b[0;32m    125\u001b[0m         \u001b[0my_pred\u001b[0m \u001b[1;33m=\u001b[0m \u001b[0mclf\u001b[0m\u001b[1;33m.\u001b[0m\u001b[0mpredict\u001b[0m\u001b[1;33m(\u001b[0m\u001b[0mx_test\u001b[0m\u001b[1;33m)\u001b[0m\u001b[1;33m\u001b[0m\u001b[1;33m\u001b[0m\u001b[0m\n\u001b[1;32m--> 126\u001b[1;33m         \u001b[0my_error\u001b[0m\u001b[1;33m.\u001b[0m\u001b[0mappend\u001b[0m\u001b[1;33m(\u001b[0m\u001b[0mlist\u001b[0m\u001b[1;33m(\u001b[0m\u001b[0my_test\u001b[0m\u001b[1;33m.\u001b[0m\u001b[0mvalues\u001b[0m \u001b[1;33m-\u001b[0m \u001b[0my_pred\u001b[0m\u001b[1;33m)\u001b[0m\u001b[1;33m)\u001b[0m\u001b[1;33m\u001b[0m\u001b[1;33m\u001b[0m\u001b[0m\n\u001b[0m\u001b[0;32m    127\u001b[0m         \u001b[0mmae\u001b[0m \u001b[1;33m+=\u001b[0m \u001b[0mmean_absolute_error\u001b[0m\u001b[1;33m(\u001b[0m\u001b[0my_test\u001b[0m\u001b[1;33m,\u001b[0m \u001b[0my_pred\u001b[0m\u001b[1;33m)\u001b[0m\u001b[1;33m\u001b[0m\u001b[1;33m\u001b[0m\u001b[0m\n\u001b[0;32m    128\u001b[0m         \u001b[0mvar\u001b[0m \u001b[1;33m+=\u001b[0m \u001b[0mr2_score\u001b[0m\u001b[1;33m(\u001b[0m\u001b[0my_test\u001b[0m\u001b[1;33m,\u001b[0m \u001b[0my_pred\u001b[0m\u001b[1;33m)\u001b[0m\u001b[1;33m\u001b[0m\u001b[1;33m\u001b[0m\u001b[0m\n",
      "\u001b[1;31mAttributeError\u001b[0m: 'numpy.ndarray' object has no attribute 'values'"
     ]
    }
   ],
   "source": [
    "param = { \n",
    "    'alpha' : [0, 0.1, 0.01], # rbf is default\n",
    "    }\n",
    "\n",
    "best_param_MLP = tune_plot(Lasso, param,\n",
    "                           df.drop(['formula', 'formation_energy_per_atom'], axis=1), df['formation_energy_per_atom'],\n",
    "                           normalize=True, iter_gridsearch=10, nb_cv=3, test_size=0.2, seed=11421)"
   ]
  },
  {
   "cell_type": "markdown",
   "metadata": {},
   "source": [
    "# Test of the MLPRegressor with GridSearhCV"
   ]
  },
  {
   "cell_type": "code",
   "execution_count": 5,
   "metadata": {},
   "outputs": [
    {
     "name": "stdout",
     "output_type": "stream",
     "text": [
      " *************************  <class 'sklearn.neural_network.multilayer_perceptron.MLPRegressor'>  ************************* \n"
     ]
    },
    {
     "data": {
      "application/vnd.jupyter.widget-view+json": {
       "model_id": "be0acdbec0bc44cf8687f2b96124a29c",
       "version_major": 2,
       "version_minor": 0
      },
      "text/plain": [
       "HBox(children=(IntProgress(value=0, max=1), HTML(value='')))"
      ]
     },
     "metadata": {},
     "output_type": "display_data"
    },
    {
     "name": "stdout",
     "output_type": "stream",
     "text": [
      "\n",
      "best parameters:  {'activation': 'logistic', 'alpha': 0.01, 'hidden_layer_sizes': (35,), 'solver': 'adam'}\n",
      "\n",
      "\n",
      "Mean squared error (on test set): 0.15\n",
      "Variance score (max_value=1 for perfect prediction): 0.95\n",
      "\n",
      "\n",
      "Average Mean squared error: 0.15\n",
      "Average Variance score (max_value=1 for perfect prediction): 0.95\n"
     ]
    },
    {
     "data": {
      "image/png": "[encoded data removed]",
      "text/plain": [
       "<Figure size 1080x432 with 1 Axes>"
      ]
     },
     "metadata": {
      "needs_background": "light"
     },
     "output_type": "display_data"
    }
   ],
   "source": [
    "param = { \n",
    "    'hidden_layer_sizes' : [(20,), (25,), (30,), (35,)], # (100,) is default\n",
    "    'activation' : ['relu', 'identity', 'logistic', 'tanh'], # 'relu' is default\n",
    "    'solver' : ['adam'], # 'adam' is default\n",
    "    'alpha' : [0.01, 0.001] # 0.0001 is default\n",
    "    }\n",
    "\n",
    "best_param_MLP = tune_plot(MLPRegressor, param,\n",
    "                           df.drop(['formula', 'formation_energy_per_atom'], axis=1), df['formation_energy_per_atom'],\n",
    "                           normalize=True, iter_gridsearch=1, nb_cv=3, test_size=0.2, seed=141421)"
   ]
  },
  {
   "cell_type": "markdown",
   "metadata": {},
   "source": [
    "# Test of the LightGBM with GridSearhCV"
   ]
  },
  {
   "cell_type": "code",
   "execution_count": 161,
   "metadata": {},
   "outputs": [
    {
     "name": "stdout",
     "output_type": "stream",
     "text": [
      "Starting training...\n",
      "[1]\tvalid_0's l1: 1.94756\n",
      "Training until validation scores don't improve for 5 rounds.\n",
      "[2]\tvalid_0's l1: 1.75755\n",
      "[3]\tvalid_0's l1: 1.5979\n",
      "[4]\tvalid_0's l1: 1.4478\n",
      "[5]\tvalid_0's l1: 1.31824\n",
      "[6]\tvalid_0's l1: 1.20672\n",
      "[7]\tvalid_0's l1: 1.09968\n",
      "[8]\tvalid_0's l1: 1.00902\n",
      "[9]\tvalid_0's l1: 0.925651\n",
      "[10]\tvalid_0's l1: 0.851926\n",
      "[11]\tvalid_0's l1: 0.791979\n",
      "[12]\tvalid_0's l1: 0.738466\n",
      "[13]\tvalid_0's l1: 0.690409\n",
      "[14]\tvalid_0's l1: 0.649467\n",
      "[15]\tvalid_0's l1: 0.619478\n",
      "[16]\tvalid_0's l1: 0.591289\n",
      "[17]\tvalid_0's l1: 0.568179\n",
      "[18]\tvalid_0's l1: 0.547452\n",
      "[19]\tvalid_0's l1: 0.532622\n",
      "[20]\tvalid_0's l1: 0.517716\n",
      "[21]\tvalid_0's l1: 0.506023\n",
      "[22]\tvalid_0's l1: 0.500004\n",
      "[23]\tvalid_0's l1: 0.490397\n",
      "[24]\tvalid_0's l1: 0.488444\n",
      "[25]\tvalid_0's l1: 0.481088\n",
      "[26]\tvalid_0's l1: 0.478446\n",
      "[27]\tvalid_0's l1: 0.477575\n",
      "[28]\tvalid_0's l1: 0.47306\n",
      "[29]\tvalid_0's l1: 0.469024\n",
      "[30]\tvalid_0's l1: 0.465374\n",
      "[31]\tvalid_0's l1: 0.462701\n",
      "[32]\tvalid_0's l1: 0.459928\n",
      "[33]\tvalid_0's l1: 0.45888\n",
      "[34]\tvalid_0's l1: 0.456704\n",
      "[35]\tvalid_0's l1: 0.453634\n",
      "[36]\tvalid_0's l1: 0.453415\n",
      "[37]\tvalid_0's l1: 0.451747\n",
      "[38]\tvalid_0's l1: 0.449911\n",
      "[39]\tvalid_0's l1: 0.448776\n",
      "[40]\tvalid_0's l1: 0.446378\n",
      "[41]\tvalid_0's l1: 0.445324\n",
      "[42]\tvalid_0's l1: 0.444881\n",
      "[43]\tvalid_0's l1: 0.445449\n",
      "[44]\tvalid_0's l1: 0.444543\n",
      "[45]\tvalid_0's l1: 0.443478\n",
      "[46]\tvalid_0's l1: 0.443095\n",
      "[47]\tvalid_0's l1: 0.443535\n",
      "[48]\tvalid_0's l1: 0.443476\n",
      "[49]\tvalid_0's l1: 0.443401\n",
      "[50]\tvalid_0's l1: 0.442946\n",
      "[51]\tvalid_0's l1: 0.442407\n",
      "[52]\tvalid_0's l1: 0.442058\n",
      "[53]\tvalid_0's l1: 0.441624\n",
      "[54]\tvalid_0's l1: 0.441173\n",
      "[55]\tvalid_0's l1: 0.441907\n",
      "[56]\tvalid_0's l1: 0.442599\n",
      "[57]\tvalid_0's l1: 0.441685\n",
      "[58]\tvalid_0's l1: 0.442148\n",
      "[59]\tvalid_0's l1: 0.440599\n",
      "[60]\tvalid_0's l1: 0.439324\n",
      "[61]\tvalid_0's l1: 0.438746\n",
      "[62]\tvalid_0's l1: 0.437464\n",
      "[63]\tvalid_0's l1: 0.437038\n",
      "[64]\tvalid_0's l1: 0.436753\n",
      "[65]\tvalid_0's l1: 0.435864\n",
      "[66]\tvalid_0's l1: 0.43588\n",
      "[67]\tvalid_0's l1: 0.436024\n",
      "[68]\tvalid_0's l1: 0.436546\n",
      "[69]\tvalid_0's l1: 0.436507\n",
      "[70]\tvalid_0's l1: 0.433611\n",
      "[71]\tvalid_0's l1: 0.43417\n",
      "[72]\tvalid_0's l1: 0.433395\n",
      "[73]\tvalid_0's l1: 0.434195\n",
      "[74]\tvalid_0's l1: 0.434206\n",
      "[75]\tvalid_0's l1: 0.433175\n",
      "[76]\tvalid_0's l1: 0.433461\n",
      "[77]\tvalid_0's l1: 0.432435\n",
      "[78]\tvalid_0's l1: 0.431169\n",
      "[79]\tvalid_0's l1: 0.430247\n",
      "[80]\tvalid_0's l1: 0.430468\n",
      "[81]\tvalid_0's l1: 0.429918\n",
      "[82]\tvalid_0's l1: 0.432031\n",
      "[83]\tvalid_0's l1: 0.431475\n",
      "[84]\tvalid_0's l1: 0.430208\n",
      "[85]\tvalid_0's l1: 0.42773\n",
      "[86]\tvalid_0's l1: 0.42659\n",
      "[87]\tvalid_0's l1: 0.425631\n",
      "[88]\tvalid_0's l1: 0.424664\n",
      "[89]\tvalid_0's l1: 0.425016\n",
      "[90]\tvalid_0's l1: 0.425177\n",
      "[91]\tvalid_0's l1: 0.425274\n",
      "[92]\tvalid_0's l1: 0.42572\n",
      "[93]\tvalid_0's l1: 0.426079\n",
      "Early stopping, best iteration is:\n",
      "[88]\tvalid_0's l1: 0.424664\n",
      "Saving model...\n",
      "Starting predicting...\n",
      "The mae of prediction is: 0.42466372284351095\n"
     ]
    }
   ],
   "source": [
    "X_train = X.drop('formation_energy_per_atom', axis=1)\n",
    "y_train = X['formation_energy_per_atom']\n",
    "X_test = y.drop('formation_energy_per_atom', axis=1)\n",
    "y_test = y['formation_energy_per_atom']\n",
    "\n",
    "# create dataset for lightgbm\n",
    "lgb_train = lgb.Dataset(X_train, y_train)\n",
    "lgb_eval = lgb.Dataset(X_test, y_test, reference=lgb_train)\n",
    "\n",
    "# specify your configurations as a dict\n",
    "params = {\n",
    "    'boosting_type': {'gbdt'},\n",
    "    'objective': 'regression',\n",
    "    'metric': {'mae'},\n",
    "    'num_leaves': 23,\n",
    "    'min_data_in_leaf': 200,\n",
    "    'learning_rate': 0.1,\n",
    "}\n",
    "\n",
    "print('Starting training...')\n",
    "# train\n",
    "gbm = lgb.train(params,\n",
    "                lgb_train,\n",
    "                num_boost_round=1000,\n",
    "                valid_sets=lgb_eval,\n",
    "early_stopping_rounds=5)\n",
    "\n",
    "print('Saving model...')\n",
    "# save model to file\n",
    "gbm.save_model('model.txt')\n",
    "\n",
    "print('Starting predicting...')\n",
    "# predict\n",
    "y_pred = gbm.predict(X_test, num_iteration=gbm.best_iteration)\n",
    "# eval\n",
    "print('The mae of prediction is:', mean_absolute_error(y_test, y_pred))"
   ]
  },
  {
   "cell_type": "code",
   "execution_count": 20,
   "metadata": {},
   "outputs": [
    {
     "name": "stdout",
     "output_type": "stream",
     "text": [
      " *************************  <module 'lightgbm' from 'C:\\\\Users\\\\Louis\\\\Anaconda3\\\\lib\\\\site-packages\\\\lightgbm\\\\__init__.py'>  ************************* \n"
     ]
    },
    {
     "data": {
      "application/vnd.jupyter.widget-view+json": {
       "model_id": "8c8b1c44a8c24c20bf09c1f62b5d0c48",
       "version_major": 2,
       "version_minor": 0
      },
      "text/plain": [
       "HBox(children=(IntProgress(value=0, max=10), HTML(value='')))"
      ]
     },
     "metadata": {},
     "output_type": "display_data"
    },
    {
     "name": "stdout",
     "output_type": "stream",
     "text": [
      "\n"
     ]
    },
    {
     "ename": "TypeError",
     "evalue": "'module' object is not callable",
     "output_type": "error",
     "traceback": [
      "\u001b[1;31m---------------------------------------------------------------------------\u001b[0m",
      "\u001b[1;31mTypeError\u001b[0m                                 Traceback (most recent call last)",
      "\u001b[1;32m<ipython-input-20-27aab7f22368>\u001b[0m in \u001b[0;36m<module>\u001b[1;34m\u001b[0m\n\u001b[0;32m      6\u001b[0m best_param_MLP = tune_plot(lgb, param,\n\u001b[0;32m      7\u001b[0m                            \u001b[0mdf\u001b[0m\u001b[1;33m.\u001b[0m\u001b[0mdrop\u001b[0m\u001b[1;33m(\u001b[0m\u001b[1;33m[\u001b[0m\u001b[1;34m'formula'\u001b[0m\u001b[1;33m,\u001b[0m \u001b[1;34m'formation_energy_per_atom'\u001b[0m\u001b[1;33m]\u001b[0m\u001b[1;33m,\u001b[0m \u001b[0maxis\u001b[0m\u001b[1;33m=\u001b[0m\u001b[1;36m1\u001b[0m\u001b[1;33m)\u001b[0m\u001b[1;33m,\u001b[0m \u001b[0mdf\u001b[0m\u001b[1;33m[\u001b[0m\u001b[1;34m'formation_energy_per_atom'\u001b[0m\u001b[1;33m]\u001b[0m\u001b[1;33m,\u001b[0m\u001b[1;33m\u001b[0m\u001b[1;33m\u001b[0m\u001b[0m\n\u001b[1;32m----> 8\u001b[1;33m                            normalize=True, iter_gridsearch=10, nb_cv=3, test_size=0.2, seed=141421)\n\u001b[0m",
      "\u001b[1;32m<ipython-input-19-c6972406334a>\u001b[0m in \u001b[0;36mtune_plot\u001b[1;34m(model, param, X, y, normalize, iter_gridsearch, nb_cv, test_size, seed)\u001b[0m\n\u001b[0;32m     73\u001b[0m \u001b[1;33m\u001b[0m\u001b[0m\n\u001b[0;32m     74\u001b[0m     \u001b[1;32mfor\u001b[0m \u001b[0mi\u001b[0m \u001b[1;32min\u001b[0m \u001b[0mtqdm\u001b[0m\u001b[1;33m(\u001b[0m\u001b[0mrange\u001b[0m\u001b[1;33m(\u001b[0m\u001b[0miter_gridsearch\u001b[0m\u001b[1;33m)\u001b[0m\u001b[1;33m)\u001b[0m\u001b[1;33m:\u001b[0m\u001b[1;33m\u001b[0m\u001b[1;33m\u001b[0m\u001b[0m\n\u001b[1;32m---> 75\u001b[1;33m         \u001b[0mresult_grid_search\u001b[0m \u001b[1;33m=\u001b[0m \u001b[0mGridSearchCV\u001b[0m\u001b[1;33m(\u001b[0m\u001b[0mestimator\u001b[0m\u001b[1;33m=\u001b[0m\u001b[0mmodel\u001b[0m\u001b[1;33m(\u001b[0m\u001b[1;33m)\u001b[0m\u001b[1;33m,\u001b[0m \u001b[0mparam_grid\u001b[0m\u001b[1;33m=\u001b[0m\u001b[0mparam\u001b[0m\u001b[1;33m,\u001b[0m \u001b[0mcv\u001b[0m\u001b[1;33m=\u001b[0m\u001b[0mnb_cv\u001b[0m\u001b[1;33m,\u001b[0m \u001b[0mreturn_train_score\u001b[0m\u001b[1;33m=\u001b[0m\u001b[1;32mFalse\u001b[0m\u001b[1;33m)\u001b[0m\u001b[1;33m\u001b[0m\u001b[1;33m\u001b[0m\u001b[0m\n\u001b[0m\u001b[0;32m     76\u001b[0m         \u001b[0mresult_grid_search\u001b[0m\u001b[1;33m.\u001b[0m\u001b[0mfit\u001b[0m\u001b[1;33m(\u001b[0m\u001b[0mXX\u001b[0m\u001b[1;33m,\u001b[0m \u001b[0myy\u001b[0m\u001b[1;33m)\u001b[0m\u001b[1;33m\u001b[0m\u001b[1;33m\u001b[0m\u001b[0m\n\u001b[0;32m     77\u001b[0m         \u001b[0mdic_comb\u001b[0m\u001b[1;33m[\u001b[0m\u001b[0mtuple\u001b[0m\u001b[1;33m(\u001b[0m\u001b[0mresult_grid_search\u001b[0m\u001b[1;33m.\u001b[0m\u001b[0mbest_params_\u001b[0m\u001b[1;33m[\u001b[0m\u001b[0mName\u001b[0m\u001b[1;33m]\u001b[0m \u001b[1;32mfor\u001b[0m \u001b[0mName\u001b[0m \u001b[1;32min\u001b[0m \u001b[0mallNames\u001b[0m\u001b[1;33m)\u001b[0m\u001b[1;33m]\u001b[0m \u001b[1;33m+=\u001b[0m \u001b[1;36m1\u001b[0m\u001b[1;33m\u001b[0m\u001b[1;33m\u001b[0m\u001b[0m\n",
      "\u001b[1;31mTypeError\u001b[0m: 'module' object is not callable"
     ]
    }
   ],
   "source": [
    "param = { \n",
    "    'num_leaves' : [10, 15, 20, 25], # rbf is default\n",
    "    'min_data_in_leaf' : [100, 500, 1000]\n",
    "    }\n",
    "\n",
    "best_param_MLP = tune_plot(lgb, param,\n",
    "                           df.drop(['formula', 'formation_energy_per_atom'], axis=1), df['formation_energy_per_atom'],\n",
    "                           normalize=True, iter_gridsearch=10, nb_cv=3, test_size=0.2, seed=141421)"
   ]
  },
  {
   "cell_type": "markdown",
   "metadata": {},
   "source": [
    "# Test of the SVR with GridSearhCV"
   ]
  },
  {
   "cell_type": "code",
   "execution_count": null,
   "metadata": {},
   "outputs": [
    {
     "name": "stdout",
     "output_type": "stream",
     "text": [
      " *************************  <class 'sklearn.svm.classes.SVR'>  ************************* \n"
     ]
    },
    {
     "data": {
      "application/vnd.jupyter.widget-view+json": {
       "model_id": "f24f006e40f24a0e9ea4cb7704b76137",
       "version_major": 2,
       "version_minor": 0
      },
      "text/plain": [
       "HBox(children=(IntProgress(value=0, max=1), HTML(value='')))"
      ]
     },
     "metadata": {},
     "output_type": "display_data"
    }
   ],
   "source": [
    "param = { \n",
    "    'kernel' : ['rbf', 'sigmoid'], # rbf is default\n",
    "    'gamma' : [0.01, 0.1, 1] # auto is default\n",
    "    }\n",
    "\n",
    "best_param_MLP = tune_plot(SVR, param,\n",
    "                          df.drop(['formula', 'formation_energy_per_atom'], axis=1), df['formation_energy_per_atom'],\n",
    "                           normalize=True,\n",
    "                          iter_gridsearch=1, nb_cv=3, test_size=0.2, seed=141421)"
   ]
  },
  {
   "cell_type": "markdown",
   "metadata": {},
   "source": [
    "# Test of the Ridge with GridSearhCV"
   ]
  },
  {
   "cell_type": "code",
   "execution_count": 8,
   "metadata": {},
   "outputs": [
    {
     "name": "stdout",
     "output_type": "stream",
     "text": [
      " *************************  <class 'sklearn.linear_model.ridge.Ridge'>  ************************* \n"
     ]
    },
    {
     "data": {
      "application/vnd.jupyter.widget-view+json": {
       "model_id": "53b6436ebc61405eb8561693a920ca94",
       "version_major": 2,
       "version_minor": 0
      },
      "text/plain": [
       "HBox(children=(IntProgress(value=0, max=1), HTML(value='')))"
      ]
     },
     "metadata": {},
     "output_type": "display_data"
    },
    {
     "name": "stdout",
     "output_type": "stream",
     "text": [
      "\n",
      "best parameters:  {'alpha': 0}\n",
      "\n",
      "\n",
      "Mean squared error (on test set): 0.39\n",
      "Variance score (max_value=1 for perfect prediction): 0.71\n",
      "\n",
      "\n",
      "Average Mean squared error: 0.39\n",
      "Average Variance score (max_value=1 for perfect prediction): 0.72\n"
     ]
    },
    {
     "data": {
      "image/png": "[encoded data removed]",
      "text/plain": [
       "<Figure size 1080x432 with 1 Axes>"
      ]
     },
     "metadata": {
      "needs_background": "light"
     },
     "output_type": "display_data"
    }
   ],
   "source": [
    "param = { \n",
    "    'alpha' : [0, 0.1, 0.01], # rbf is default\n",
    "    }\n",
    "\n",
    "best_param_MLP = tune_plot(Ridge, param,\n",
    "                           df.drop(['formula', 'formation_energy_per_atom'], axis=1), df['formation_energy_per_atom'],\n",
    "                           normalize=True, iter_gridsearch=1, nb_cv=3, test_size=0.2, seed=141421)"
   ]
  },
  {
   "cell_type": "markdown",
   "metadata": {},
   "source": [
    "# Test of the LinearRegression with GridSearhCV"
   ]
  },
  {
   "cell_type": "code",
   "execution_count": 162,
   "metadata": {},
   "outputs": [
    {
     "name": "stdout",
     "output_type": "stream",
     "text": [
      " *************************  <class 'sklearn.linear_model.base.LinearRegression'>  ************************* \n"
     ]
    },
    {
     "data": {
      "application/vnd.jupyter.widget-view+json": {
       "model_id": "67111821a76e48778fa166b8806a5838",
       "version_major": 2,
       "version_minor": 0
      },
      "text/plain": [
       "HBox(children=(IntProgress(value=0, max=1), HTML(value='')))"
      ]
     },
     "metadata": {},
     "output_type": "display_data"
    },
    {
     "name": "stdout",
     "output_type": "stream",
     "text": [
      "\n",
      "best parameters:  {'fit_intercept': False}\n",
      "\n",
      "\n",
      "Mean squared error (on test set): 0.39\n",
      "Variance score (max_value=1 for perfect prediction): 0.71\n",
      "\n",
      "\n",
      "Average Mean squared error: 0.39\n",
      "Average Variance score (max_value=1 for perfect prediction): 0.72\n"
     ]
    },
    {
     "data": {
      "image/png": "[encoded data removed]",
      "text/plain": [
       "<Figure size 1080x432 with 1 Axes>"
      ]
     },
     "metadata": {
      "needs_background": "light"
     },
     "output_type": "display_data"
    }
   ],
   "source": [
    "param = { \n",
    "    'fit_intercept' : [True, False], # rbf is default\n",
    "    }\n",
    "\n",
    "best_param_MLP = tune_plot(LinearRegression, param,\n",
    "                           df.drop(['formula', 'formation_energy_per_atom'], axis=1), df['formation_energy_per_atom'],\n",
    "                           normalize=True, iter_gridsearch=1, nb_cv=3, test_size=0.2, seed=141421)"
   ]
  },
  {
   "cell_type": "markdown",
   "metadata": {},
   "source": [
    "# Test of the GaussianProcessRegressor with GridSearhCV"
   ]
  },
  {
   "cell_type": "code",
   "execution_count": null,
   "metadata": {},
   "outputs": [
    {
     "name": "stdout",
     "output_type": "stream",
     "text": [
      " *************************  <class 'sklearn.gaussian_process.gpr.GaussianProcessRegressor'>  ************************* \n"
     ]
    },
    {
     "data": {
      "application/vnd.jupyter.widget-view+json": {
       "model_id": "4fd489038d1245429fecf9c4f692f1c2",
       "version_major": 2,
       "version_minor": 0
      },
      "text/plain": [
       "HBox(children=(IntProgress(value=0, max=1), HTML(value='')))"
      ]
     },
     "metadata": {},
     "output_type": "display_data"
    }
   ],
   "source": [
    "param = { \n",
    "    'alpha' : [1e-2, 1e-1, 1, 10] # 1e-10 is default\n",
    "    }\n",
    "\n",
    "best_param_MLP = tune_plot(GaussianProcessRegressor, param,\n",
    "                           df.drop(['formula', 'formation_energy_per_atom'], axis=1), df['formation_energy_per_atom'],\n",
    "                           normalize=True, iter_gridsearch=1, nb_cv=3, test_size=0.2, seed=141421)"
   ]
  },
  {
   "cell_type": "markdown",
   "metadata": {},
   "source": [
    "# Test of the GradientBoostingRegressor with GridSearhCV"
   ]
  },
  {
   "cell_type": "code",
   "execution_count": 6,
   "metadata": {},
   "outputs": [
    {
     "name": "stdout",
     "output_type": "stream",
     "text": [
      " *************************  <class 'sklearn.ensemble.gradient_boosting.GradientBoostingRegressor'>  ************************* \n"
     ]
    },
    {
     "data": {
      "application/vnd.jupyter.widget-view+json": {
       "model_id": "828f914db6e746799689ae44c1cbbacc",
       "version_major": 2,
       "version_minor": 0
      },
      "text/plain": [
       "HBox(children=(IntProgress(value=0, max=1), HTML(value='')))"
      ]
     },
     "metadata": {},
     "output_type": "display_data"
    },
    {
     "name": "stdout",
     "output_type": "stream",
     "text": [
      "\n",
      "best parameters:  {'loss': 'ls'}\n",
      "\n",
      "\n",
      "Mean squared error (on test set): 0.41\n",
      "Variance score (max_value=1 for perfect prediction): 0.71\n",
      "\n",
      "\n",
      "Average Mean squared error: 0.40\n",
      "Average Variance score (max_value=1 for perfect prediction): 0.71\n"
     ]
    },
    {
     "data": {
      "image/png": "[encoded data removed]",
      "text/plain": [
       "<Figure size 1080x432 with 1 Axes>"
      ]
     },
     "metadata": {
      "needs_background": "light"
     },
     "output_type": "display_data"
    }
   ],
   "source": [
    "param = { \n",
    "    'loss' : ['ls', 'lad', 'huber', 'quantile'], # 1e-10 is default\n",
    "    }\n",
    "\n",
    "best_param_MLP = tune_plot(GradientBoostingRegressor, param,\n",
    "                           df.drop(['formula', 'formation_energy_per_atom'], axis=1), df['formation_energy_per_atom'],\n",
    "                           normalize=True, iter_gridsearch=1, nb_cv=3, test_size=0.2, seed=141421)"
   ]
  },
  {
   "cell_type": "markdown",
   "metadata": {},
   "source": [
    "# Test of the RandomForestRegressor with GridSearhCV"
   ]
  },
  {
   "cell_type": "code",
   "execution_count": 7,
   "metadata": {},
   "outputs": [
    {
     "name": "stdout",
     "output_type": "stream",
     "text": [
      " *************************  <class 'sklearn.ensemble.forest.RandomForestRegressor'>  ************************* \n"
     ]
    },
    {
     "data": {
      "application/vnd.jupyter.widget-view+json": {
       "model_id": "bf4503658b594437a5e8ea44688e639e",
       "version_major": 2,
       "version_minor": 0
      },
      "text/plain": [
       "HBox(children=(IntProgress(value=0, max=1), HTML(value='')))"
      ]
     },
     "metadata": {},
     "output_type": "display_data"
    },
    {
     "name": "stdout",
     "output_type": "stream",
     "text": [
      "\n",
      "best parameters:  {'max_depth': 10, 'n_estimators': 15}\n",
      "\n",
      "\n",
      "Mean squared error (on test set): 0.44\n",
      "Variance score (max_value=1 for perfect prediction): 0.66\n",
      "\n",
      "\n",
      "Average Mean squared error: 0.44\n",
      "Average Variance score (max_value=1 for perfect prediction): 0.67\n"
     ]
    },
    {
     "data": {
      "image/png": "[encoded data removed]",
      "text/plain": [
       "<Figure size 1080x432 with 1 Axes>"
      ]
     },
     "metadata": {
      "needs_background": "light"
     },
     "output_type": "display_data"
    }
   ],
   "source": [
    "param = { \n",
    "    'n_estimators' : [5, 10, 15, 20], # 1e-10 is default\n",
    "    'max_depth' : [3, 5, 7, 8, 10], # 2 is default\n",
    "    }\n",
    "\n",
    "best_param_MLP = tune_plot(RandomForestRegressor, param,\n",
    "                           df.drop(['formula', 'formation_energy_per_atom'], axis=1), df['formation_energy_per_atom'],\n",
    "                           normalize=True, iter_gridsearch=1, nb_cv=3, test_size=0.2, seed=141421)"
   ]
  }
 ],
 "metadata": {
  "colab": {
   "collapsed_sections": [],
   "name": "materials_formation_energy_prediction_starting_kit.ipynb",
   "provenance": [],
   "version": "0.3.2"
  },
  "kernelspec": {
   "display_name": "Python 3",
   "language": "python",
   "name": "python3"
  },
  "language_info": {
   "codemirror_mode": {
    "name": "ipython",
    "version": 3
   },
   "file_extension": ".py",
   "mimetype": "text/x-python",
   "name": "python",
   "nbconvert_exporter": "python",
   "pygments_lexer": "ipython3",
   "version": "3.7.1"
  }
 },
 "nbformat": 4,
 "nbformat_minor": 1
}
